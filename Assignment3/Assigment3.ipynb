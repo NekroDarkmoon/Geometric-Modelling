{
 "cells": [
  {
   "cell_type": "markdown",
   "metadata": {},
   "source": [
    "# Assigment 3"
   ]
  },
  {
   "cell_type": "code",
   "execution_count": 2,
   "metadata": {},
   "outputs": [],
   "source": [
    "import igl\n",
    "import numpy as np\n",
    "import scipy as sp\n",
    "from scipy import spatial\n",
    "import meshplot as mp\n",
    "\n",
    "from typing import Optional, Any"
   ]
  },
  {
   "cell_type": "code",
   "execution_count": 3,
   "metadata": {
    "tags": []
   },
   "outputs": [
    {
     "data": {
      "application/vnd.jupyter.widget-view+json": {
       "model_id": "4dbb2a6a95444a038f543a3e7a79a7b7",
       "version_major": 2,
       "version_minor": 0
      },
      "text/plain": [
       "Renderer(camera=PerspectiveCamera(children=(DirectionalLight(color='white', intensity=0.6, position=(0.0, 0.0,…"
      ]
     },
     "metadata": {},
     "output_type": "display_data"
    },
    {
     "data": {
      "text/plain": [
       "<meshplot.Viewer.Viewer at 0x1eff5706790>"
      ]
     },
     "execution_count": 3,
     "metadata": {},
     "output_type": "execute_result"
    }
   ],
   "source": [
    "v, f = igl.read_triangle_mesh(\"data/cow.off\")\n",
    "mp.plot(v, f, shading={\"wireframe\": True})"
   ]
  },
  {
   "cell_type": "markdown",
   "metadata": {},
   "source": [
    "# Vertex normal"
   ]
  },
  {
   "cell_type": "code",
   "execution_count": 4,
   "metadata": {
    "tags": []
   },
   "outputs": [
    {
     "data": {
      "application/vnd.jupyter.widget-view+json": {
       "model_id": "7f90e88fa95740f3a40091eab39057ac",
       "version_major": 2,
       "version_minor": 0
      },
      "text/plain": [
       "Renderer(camera=PerspectiveCamera(children=(DirectionalLight(color='white', intensity=0.6, position=(0.0, 0.0,…"
      ]
     },
     "metadata": {},
     "output_type": "display_data"
    },
    {
     "data": {
      "text/plain": [
       "<meshplot.Viewer.Viewer at 0x1eff56c0c10>"
      ]
     },
     "execution_count": 4,
     "metadata": {},
     "output_type": "execute_result"
    }
   ],
   "source": [
    "# Standard face normal\n",
    "def compute_standard_normals(vertices: list[Any], faces: list[Any]) -> list[Any]:\n",
    "    \"\"\" Computes the unweighted average of surrounding face normals \"\"\"\n",
    "    return igl.per_vertex_normals(vertices, faces)\n",
    "\n",
    "mp.plot(v, f, n=compute_standard_normals(v,f), shading={\"flat\": False})"
   ]
  },
  {
   "cell_type": "code",
   "execution_count": 5,
   "metadata": {
    "tags": []
   },
   "outputs": [
    {
     "data": {
      "application/vnd.jupyter.widget-view+json": {
       "model_id": "9b44042719de40d1aa4ce33753842a82",
       "version_major": 2,
       "version_minor": 0
      },
      "text/plain": [
       "Renderer(camera=PerspectiveCamera(children=(DirectionalLight(color='white', intensity=0.6, position=(0.0, 0.0,…"
      ]
     },
     "metadata": {},
     "output_type": "display_data"
    },
    {
     "data": {
      "text/plain": [
       "<meshplot.Viewer.Viewer at 0x1efff090f70>"
      ]
     },
     "execution_count": 5,
     "metadata": {},
     "output_type": "execute_result"
    }
   ],
   "source": [
    "# Area-weighted face normal\n",
    "def compute_area_weighted_normals(vertices: list[Any], faces: list[Any]) -> list[Any]:\n",
    "    \"\"\" Computes the area weighted average of surrounding face normals \"\"\"\n",
    "    return igl.per_vertex_normals(vertices, faces, weighting=igl.PER_VERTEX_NORMALS_WEIGHTING_TYPE_AREA )\n",
    "\n",
    "mp.plot(v, f, n=compute_area_weighted_normals(v,f), shading={\"flat\": False})"
   ]
  },
  {
   "cell_type": "code",
   "execution_count": 6,
   "metadata": {
    "tags": []
   },
   "outputs": [
    {
     "data": {
      "application/vnd.jupyter.widget-view+json": {
       "model_id": "a0613bb6fc2649deb9bb5369250fcfce",
       "version_major": 2,
       "version_minor": 0
      },
      "text/plain": [
       "Renderer(camera=PerspectiveCamera(children=(DirectionalLight(color='white', intensity=0.6, position=(0.0, 0.0,…"
      ]
     },
     "metadata": {},
     "output_type": "display_data"
    },
    {
     "data": {
      "text/plain": [
       "<meshplot.Viewer.Viewer at 0x1effece3490>"
      ]
     },
     "execution_count": 6,
     "metadata": {},
     "output_type": "execute_result"
    }
   ],
   "source": [
    "# Mean-curvature normal\n",
    "def compute_mean_curvature_normals(vertices: list[Any], faces: list[Any], eps: int) -> list[Any]:\n",
    "    \"\"\" Uses thecotangent-weighted Laplacian to the mesh vertex positions to compute the normal weighted proportionally to mean curvature \"\"\"\n",
    "    \n",
    "    # Step 1: Construct a Cotangent stiffness matrix (discrete laplacian)\n",
    "    cotangent_matrix = igl.cotmatrix(vertices, faces)\n",
    "   \n",
    "    # Step 2: Construct the area matrix using VORONOI\n",
    "    mass_matrix = igl.massmatrix(vertices, faces)\n",
    "    \n",
    "    minv = sp.sparse.diags(1 / mass_matrix.diagonal())\n",
    "    hn = -minv.dot(cotangent_matrix.dot(vertices))\n",
    "    h = np.linalg.norm(hn, axis=1)\n",
    "    \n",
    "    normals = np.array([ x / y for x, y in zip(hn, h)])\n",
    "    normals[h < 1e-6,:] = compute_area_weighted_normals(vertices, faces)[h < 1e-6,:]\n",
    "    return normals\n",
    "\n",
    "\n",
    "    \n",
    "n = compute_mean_curvature_normals(v, f, 10)\n",
    "mp.plot(v, f, n=n, shading={\"flat\": False})\n"
   ]
  },
  {
   "cell_type": "code",
   "execution_count": 7,
   "metadata": {
    "tags": []
   },
   "outputs": [
    {
     "data": {
      "application/vnd.jupyter.widget-view+json": {
       "model_id": "804e7c27af604dd780a544d2a52f533c",
       "version_major": 2,
       "version_minor": 0
      },
      "text/plain": [
       "Renderer(camera=PerspectiveCamera(children=(DirectionalLight(color='white', intensity=0.6, position=(0.0, 0.0,…"
      ]
     },
     "metadata": {},
     "output_type": "display_data"
    },
    {
     "data": {
      "text/plain": [
       "<meshplot.Viewer.Viewer at 0x1eff5706df0>"
      ]
     },
     "execution_count": 7,
     "metadata": {},
     "output_type": "execute_result"
    }
   ],
   "source": [
    "# PCA normal\n",
    "def knn(vertex, tree, k=5):\n",
    "    \"\"\" Computes the indices of the k nearest vertices to a vertex. \"\"\"\n",
    "    _, indices = tree.query(vertex, k=k)\n",
    "    \n",
    "    return indices\n",
    "\n",
    "\n",
    "def compute_pca_normals(vertices: list[Any], faces: list[Any], k: int) -> list[Any]:\n",
    "    \"\"\" Computes the PCA normal. \"\"\"\n",
    "    \n",
    "    # Compute KDTree early     \n",
    "    tree = spatial.KDTree(vertices)\n",
    "    \n",
    "    # Calculate PCA\n",
    "    normals = list()\n",
    "    for vertex in vertices:\n",
    "        # Get neighbours         \n",
    "        idx =  knn(vertex, tree, k=k)\n",
    "        mv = np.mean(vertices[idx,:])\n",
    "        centers = vertices[idx,:] - mv\n",
    "        covariance = centers.T @ centers\n",
    "        \n",
    "        vals, vecs = np.linalg.eig(covariance)\n",
    "        \n",
    "        normal = np.min(vals)\n",
    "        normals.append(normal)\n",
    "    \n",
    "    \n",
    "    return np.array(normals)\n",
    "\n",
    "n = compute_pca_normals(v, f, 5)\n",
    "mp.plot(v, f, n=n, shading={\"flat\": False})"
   ]
  },
  {
   "cell_type": "code",
   "execution_count": null,
   "metadata": {},
   "outputs": [],
   "source": [
    "# Quadratic fitting normal\n"
   ]
  },
  {
   "cell_type": "markdown",
   "metadata": {},
   "source": [
    "# Curvature"
   ]
  },
  {
   "cell_type": "code",
   "execution_count": 8,
   "metadata": {
    "collapsed": true,
    "jupyter": {
     "outputs_hidden": true
    },
    "tags": []
   },
   "outputs": [
    {
     "data": {
      "application/vnd.jupyter.widget-view+json": {
       "model_id": "bb0e2027e02042aa911bb242a79633d7",
       "version_major": 2,
       "version_minor": 0
      },
      "text/plain": [
       "Renderer(camera=PerspectiveCamera(children=(DirectionalLight(color='white', intensity=0.6, position=(0.0, 0.0,…"
      ]
     },
     "metadata": {},
     "output_type": "display_data"
    },
    {
     "data": {
      "text/plain": [
       "<meshplot.Viewer.Viewer at 0x1efffdcce50>"
      ]
     },
     "execution_count": 8,
     "metadata": {},
     "output_type": "execute_result"
    }
   ],
   "source": [
    "# Gaussian curvature\n",
    "def compute_gaussian_curvature(vertices:list[Any], faces:list[Any]) -> list[Any]:\n",
    "    return igl.gaussian_curvature(vertices, faces)\n",
    "\n",
    "mp.plot(v, f, compute_gaussian_curvature(v, f))\n"
   ]
  },
  {
   "cell_type": "code",
   "execution_count": 9,
   "metadata": {
    "collapsed": true,
    "jupyter": {
     "outputs_hidden": true
    },
    "tags": []
   },
   "outputs": [
    {
     "data": {
      "application/vnd.jupyter.widget-view+json": {
       "model_id": "224f7f0282884c25b01204dd2b15d5fb",
       "version_major": 2,
       "version_minor": 0
      },
      "text/plain": [
       "Renderer(camera=PerspectiveCamera(children=(DirectionalLight(color='white', intensity=0.6, position=(0.0, 0.0,…"
      ]
     },
     "metadata": {},
     "output_type": "display_data"
    },
    {
     "data": {
      "text/plain": [
       "2"
      ]
     },
     "execution_count": 9,
     "metadata": {},
     "output_type": "execute_result"
    }
   ],
   "source": [
    "# Principal curvature\n",
    "def compute_principal_curvature(vertices, faces):\n",
    "    \"\"\" \"\"\"\n",
    "    v1, v2, k1, k2 = igl.principal_curvature(v, f)\n",
    "    h = 0.5 * (k1 + k2)\n",
    "    \n",
    "    return v1, v2, h\n",
    "\n",
    "\n",
    "v1, v2, h = compute_principal_curvature(v, f)\n",
    "p = mp.plot(\n",
    "    v, f, h, shading={\"wireframe\": False}, return_plot=True\n",
    ")\n",
    "\n",
    "avg = igl.avg_edge_length(v, f) / 2.0\n",
    "\n",
    "p.add_lines(v + v1 * avg, v - v1 * avg, shading={\"line_color\": \"red\"})\n",
    "p.add_lines(v + v2 * avg, v - v2 * avg, shading={\"line_color\": \"green\"})"
   ]
  },
  {
   "cell_type": "markdown",
   "metadata": {},
   "source": [
    "# Smoothing with the Laplacian"
   ]
  },
  {
   "cell_type": "code",
   "execution_count": 12,
   "metadata": {},
   "outputs": [],
   "source": [
    "from scipy.sparse.linalg import spsolve"
   ]
  },
  {
   "cell_type": "code",
   "execution_count": 51,
   "metadata": {
    "scrolled": true,
    "tags": []
   },
   "outputs": [
    {
     "data": {
      "application/vnd.jupyter.widget-view+json": {
       "model_id": "6fb81bbe1ebe4657b02063c9497c2961",
       "version_major": 2,
       "version_minor": 0
      },
      "text/plain": [
       "HBox(children=(Output(), Output(), Output()))"
      ]
     },
     "metadata": {},
     "output_type": "display_data"
    }
   ],
   "source": [
    "# Explicit laplacian\n",
    "def explicit_smoothing(vertices, faces, iter_count=1000, l=0.01):\n",
    "    cotangents = igl.cotmatrix(vertices, faces)\n",
    "    normals = igl.per_vertex_normals(vertices, faces)\n",
    "    colors = np.linalg.norm(normals, axis=1)\n",
    "    \n",
    "    vs = [vertices]\n",
    "    cs = [colors]\n",
    "    \n",
    "    for i in range(iter_count):\n",
    "        mass_matrix = igl.massmatrix(vertices, faces, igl.MASSMATRIX_TYPE_VORONOI)\n",
    "        minv = sp.sparse.diags(1 / mass_matrix.diagonal())\n",
    "        L = minv.dot(cotangents)\n",
    "        I = sp.sparse.identity(L.shape[0])\n",
    "        s = (I + (1e-6) * L)\n",
    "        \n",
    "        vertices = s.dot(vertices)\n",
    "        normals = igl.per_vertex_normals(vertices, faces)\n",
    "        colors = np.linalg.norm(normals, axis=1)\n",
    "        \n",
    "        vs.append(vertices)\n",
    "        cs.append(colors)\n",
    "\n",
    "    return vs, cs\n",
    "\n",
    "vs, cs = explicit_smoothing(v, f) \n",
    "plot = mp.subplot(vs[0], f, cs[0], s=[1, 3, 0])\n",
    "mp.subplot(vs[500], f, cs[500], s=[1, 3, 1], data=plot)\n",
    "mp.subplot(vs[999], f, cs[999], s=[1, 3, 2], data=plot)"
   ]
  },
  {
   "cell_type": "code",
   "execution_count": 29,
   "metadata": {},
   "outputs": [
    {
     "data": {
      "application/vnd.jupyter.widget-view+json": {
       "model_id": "f0fc420665084ed595d924313305aa2c",
       "version_major": 2,
       "version_minor": 0
      },
      "text/plain": [
       "HBox(children=(Output(), Output()))"
      ]
     },
     "metadata": {},
     "output_type": "display_data"
    }
   ],
   "source": [
    "# Implicit laplacian\n",
    "def implicit_smoothing(vertices, faces, iter_count=1, l=20):\n",
    "    cotangents = igl.cotmatrix(vertices, faces)\n",
    "    normals = igl.per_vertex_normals(vertices, faces)\n",
    "    colors = np.linalg.norm(normals, axis=1)\n",
    "    \n",
    "    vs = [vertices]\n",
    "    cs = [colors]\n",
    "    \n",
    "    for i in range(iter_count):\n",
    "        area_matrix = igl.massmatrix(vertices, faces, igl.MASSMATRIX_TYPE_BARYCENTRIC)\n",
    "        s = area_matrix - (1 / l) * cotangents\n",
    "        b = area_matrix.dot(vertices)\n",
    "        vertices = spsolve(s, area_matrix.dot(vertices))\n",
    "        normals = igl.per_vertex_normals(vertices, faces)\n",
    "        colors = np.linalg.norm(normals, axis=1)\n",
    "        vs.append(vertices)\n",
    "        cs.append(colors)\n",
    "    \n",
    "    return vs, cs\n",
    "\n",
    "\n",
    "vs, cs = implicit_smoothing(v, f) \n",
    "plot = mp.subplot(vs[0], f, cs[0], s=[1, 2, 0])\n",
    "mp.subplot(vs[1], f, cs[1], s=[1, 2, 1], data=plot)"
   ]
  },
  {
   "cell_type": "code",
   "execution_count": null,
   "metadata": {},
   "outputs": [],
   "source": []
  }
 ],
 "metadata": {
  "kernelspec": {
   "display_name": "Python 3 (ipykernel)",
   "language": "python",
   "name": "python3"
  },
  "language_info": {
   "codemirror_mode": {
    "name": "ipython",
    "version": 3
   },
   "file_extension": ".py",
   "mimetype": "text/x-python",
   "name": "python",
   "nbconvert_exporter": "python",
   "pygments_lexer": "ipython3",
   "version": "3.9.12"
  }
 },
 "nbformat": 4,
 "nbformat_minor": 4
}
