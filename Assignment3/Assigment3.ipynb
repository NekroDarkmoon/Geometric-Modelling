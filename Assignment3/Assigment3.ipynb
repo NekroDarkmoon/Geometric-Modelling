{
 "cells": [
  {
   "cell_type": "markdown",
   "metadata": {},
   "source": [
    "# Assigment 3"
   ]
  },
  {
   "cell_type": "code",
   "execution_count": 20,
   "metadata": {},
   "outputs": [],
   "source": [
    "import igl\n",
    "import numpy as np\n",
    "import scipy as sp\n",
    "import meshplot as mp\n",
    "\n",
    "from typing import Optional, Any"
   ]
  },
  {
   "cell_type": "code",
   "execution_count": 69,
   "metadata": {
    "collapsed": true,
    "jupyter": {
     "outputs_hidden": true
    },
    "tags": []
   },
   "outputs": [
    {
     "data": {
      "application/vnd.jupyter.widget-view+json": {
       "model_id": "a81e377e196546d591b0f3cc3f8d2655",
       "version_major": 2,
       "version_minor": 0
      },
      "text/plain": [
       "Renderer(camera=PerspectiveCamera(children=(DirectionalLight(color='white', intensity=0.6, position=(0.0, 0.0,…"
      ]
     },
     "metadata": {},
     "output_type": "display_data"
    },
    {
     "data": {
      "text/plain": [
       "<meshplot.Viewer.Viewer at 0x1b603306670>"
      ]
     },
     "execution_count": 69,
     "metadata": {},
     "output_type": "execute_result"
    }
   ],
   "source": [
    "v, f = igl.read_triangle_mesh(\"data/cow.off\")\n",
    "mp.plot(v, f, shading={\"wireframe\": True})"
   ]
  },
  {
   "cell_type": "markdown",
   "metadata": {},
   "source": [
    "# Vertex normal"
   ]
  },
  {
   "cell_type": "code",
   "execution_count": 124,
   "metadata": {
    "collapsed": true,
    "jupyter": {
     "outputs_hidden": true
    },
    "tags": []
   },
   "outputs": [
    {
     "data": {
      "application/vnd.jupyter.widget-view+json": {
       "model_id": "506259dcbe6c4cb58590bd831859cecf",
       "version_major": 2,
       "version_minor": 0
      },
      "text/plain": [
       "Renderer(camera=PerspectiveCamera(children=(DirectionalLight(color='white', intensity=0.6, position=(0.0, 0.0,…"
      ]
     },
     "metadata": {},
     "output_type": "display_data"
    },
    {
     "data": {
      "text/plain": [
       "<meshplot.Viewer.Viewer at 0x1b604a36880>"
      ]
     },
     "execution_count": 124,
     "metadata": {},
     "output_type": "execute_result"
    }
   ],
   "source": [
    "# Standard face normal\n",
    "def compute_standard_normals(vertices: list[Any], faces: list[Any]) -> list[Any]:\n",
    "    \"\"\" Computes the unweighted average of surrounding face normals \"\"\"\n",
    "    return igl.per_vertex_normals(vertices, faces)\n",
    "\n",
    "mp.plot(v, f, n=compute_standard_normals(v,f), shading={\"flat\": False})"
   ]
  },
  {
   "cell_type": "code",
   "execution_count": 139,
   "metadata": {
    "collapsed": true,
    "jupyter": {
     "outputs_hidden": true
    },
    "tags": []
   },
   "outputs": [
    {
     "data": {
      "application/vnd.jupyter.widget-view+json": {
       "model_id": "70bb32ee082549cd960368de83766ace",
       "version_major": 2,
       "version_minor": 0
      },
      "text/plain": [
       "Renderer(camera=PerspectiveCamera(children=(DirectionalLight(color='white', intensity=0.6, position=(0.0, 0.0,…"
      ]
     },
     "metadata": {},
     "output_type": "display_data"
    },
    {
     "data": {
      "text/plain": [
       "<meshplot.Viewer.Viewer at 0x1b604b64b20>"
      ]
     },
     "execution_count": 139,
     "metadata": {},
     "output_type": "execute_result"
    }
   ],
   "source": [
    "# Area-weighted face normal\n",
    "def compute_area_weighted_normals(vertices: list[Any], faces: list[Any]) -> list[Any]:\n",
    "    \"\"\" Computes the area weighted average of surrounding face normals \"\"\"\n",
    "    return igl.per_vertex_normals(vertices, faces, weighting=igl.PER_VERTEX_NORMALS_WEIGHTING_TYPE_AREA )\n",
    "\n",
    "mp.plot(v, f, n=compute_area_weighted_normals(v,f), shading={\"flat\": False})"
   ]
  },
  {
   "cell_type": "code",
   "execution_count": 143,
   "metadata": {
    "tags": []
   },
   "outputs": [
    {
     "name": "stdout",
     "output_type": "stream",
     "text": [
      "a: 2178, b:584\n"
     ]
    },
    {
     "data": {
      "application/vnd.jupyter.widget-view+json": {
       "model_id": "9ac4d7514c92423e90c5ee871d46f1a6",
       "version_major": 2,
       "version_minor": 0
      },
      "text/plain": [
       "Renderer(camera=PerspectiveCamera(children=(DirectionalLight(color='white', intensity=0.6, position=(0.0, 0.0,…"
      ]
     },
     "metadata": {},
     "output_type": "display_data"
    },
    {
     "data": {
      "text/plain": [
       "<meshplot.Viewer.Viewer at 0x1b604bc8f10>"
      ]
     },
     "execution_count": 143,
     "metadata": {},
     "output_type": "execute_result"
    }
   ],
   "source": [
    "# Mean-curvature normal\n",
    "def compute_mean_curvature_normals(vertices: list[Any], faces: list[Any], eps: int) -> list[Any]:\n",
    "    \"\"\" Uses thecotangent-weighted Laplacian to the mesh vertex positions to compute the normal weighted proportionally to mean curvature \"\"\"\n",
    "    \n",
    "    # Step 1: Construct a Cotangent stiffness matrix (discrete laplacian)\n",
    "    cotangent_matrix = igl.cotmatrix(vertices, faces)\n",
    "   \n",
    "    # Step 2: Construct the area matrix using VORONOI\n",
    "    mass_matrix = igl.massmatrix(vertices, faces)\n",
    "    \n",
    "    minv = sp.sparse.diags(1 / mass_matrix.diagonal())\n",
    "    hn = -minv.dot(cotangent_matrix.dot(vertices))\n",
    "    h = np.linalg.norm(hn, axis=1)\n",
    "    \n",
    "    sn = compute_standard_normals(vertices, faces)\n",
    "    wn = compute_area_weighted_normals(vertices, faces)\n",
    "\n",
    "    normals:list[Any] = list()\n",
    "    a = b = 0\n",
    "    for idx, val in enumerate(h):\n",
    "        if (np.linalg.norm(val) > eps):\n",
    "            normals.append(sn[idx])\n",
    "            a += 1\n",
    "        else:\n",
    "            normals.append(wn[idx])\n",
    "            b += 1\n",
    "    \n",
    "    print(f\"a: {a}, b:{b}\")\n",
    "\n",
    "    return np.array(normals) \n",
    "\n",
    "    \n",
    "n = compute_mean_curvature_normals(v, f, 10)\n",
    "mp.plot(v, f, n=n, shading={\"flat\": False})\n"
   ]
  },
  {
   "cell_type": "code",
   "execution_count": 131,
   "metadata": {
    "tags": []
   },
   "outputs": [
    {
     "data": {
      "application/vnd.jupyter.widget-view+json": {
       "model_id": "69647e7fb431434590cc900f47b680fb",
       "version_major": 2,
       "version_minor": 0
      },
      "text/plain": [
       "Renderer(camera=PerspectiveCamera(children=(DirectionalLight(color='white', intensity=0.6, position=(0.0, 0.0,…"
      ]
     },
     "metadata": {},
     "output_type": "display_data"
    },
    {
     "data": {
      "text/plain": [
       "<meshplot.Viewer.Viewer at 0x1b604a7f2b0>"
      ]
     },
     "execution_count": 131,
     "metadata": {},
     "output_type": "execute_result"
    }
   ],
   "source": [
    "# PCA normal\n",
    "def compute_pca_normals(vertices: list[Any], faces: list[Any]) -> list[Any]:\n",
    "    \"\"\" \"\"\"\n",
    "    \n",
    "    normals = np.array([])\n",
    "    return normals\n",
    "\n",
    "n = compute_pca_normals(v, f)\n",
    "mp.plot(v, f, n=n, shading={\"flat\": False})"
   ]
  },
  {
   "cell_type": "code",
   "execution_count": null,
   "metadata": {},
   "outputs": [],
   "source": [
    "# Quadratic fitting normal\n"
   ]
  },
  {
   "cell_type": "markdown",
   "metadata": {},
   "source": [
    "# Curvature"
   ]
  },
  {
   "cell_type": "code",
   "execution_count": null,
   "metadata": {},
   "outputs": [],
   "source": [
    "# Gaussian curvature"
   ]
  },
  {
   "cell_type": "code",
   "execution_count": null,
   "metadata": {},
   "outputs": [],
   "source": [
    "# Principal curvature"
   ]
  },
  {
   "cell_type": "markdown",
   "metadata": {},
   "source": [
    "# Smoothing with the Laplacian"
   ]
  },
  {
   "cell_type": "code",
   "execution_count": null,
   "metadata": {},
   "outputs": [],
   "source": [
    "from scipy.sparse.linalg import spsolve\n",
    "import scipy.sparse as sp"
   ]
  },
  {
   "cell_type": "code",
   "execution_count": null,
   "metadata": {
    "scrolled": true
   },
   "outputs": [],
   "source": [
    "# Explicit laplacian"
   ]
  },
  {
   "cell_type": "code",
   "execution_count": null,
   "metadata": {},
   "outputs": [],
   "source": []
  },
  {
   "cell_type": "code",
   "execution_count": null,
   "metadata": {},
   "outputs": [],
   "source": [
    "# Implicit laplacian\n"
   ]
  },
  {
   "cell_type": "code",
   "execution_count": null,
   "metadata": {},
   "outputs": [],
   "source": []
  }
 ],
 "metadata": {
  "kernelspec": {
   "display_name": "Python 3 (ipykernel)",
   "language": "python",
   "name": "python3"
  },
  "language_info": {
   "codemirror_mode": {
    "name": "ipython",
    "version": 3
   },
   "file_extension": ".py",
   "mimetype": "text/x-python",
   "name": "python",
   "nbconvert_exporter": "python",
   "pygments_lexer": "ipython3",
   "version": "3.9.12"
  }
 },
 "nbformat": 4,
 "nbformat_minor": 4
}
