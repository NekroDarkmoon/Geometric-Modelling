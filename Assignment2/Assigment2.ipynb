{
 "cells": [
  {
   "cell_type": "code",
   "execution_count": 1,
   "metadata": {
    "scrolled": true,
    "tags": []
   },
   "outputs": [],
   "source": [
    "from __future__ import annotations\n",
    "\n",
    "from typing import TYPE_CHECKING, Any\n",
    "\n",
    "import numpy as np\n",
    "import igl\n",
    "import meshplot as mp\n",
    "import math"
   ]
  },
  {
   "cell_type": "code",
   "execution_count": 2,
   "metadata": {
    "scrolled": true,
    "tags": []
   },
   "outputs": [],
   "source": [
    "# Utility function to generate a tet grid\n",
    "# n is a 3-tuple with the number of cell in every direction\n",
    "# mmin/mmax are the grid bounding box corners\n",
    "def tet_grid(n, mmin, mmax):\n",
    "    nx = n[0]\n",
    "    ny = n[1]\n",
    "    nz = n[2]\n",
    "    \n",
    "    delta = mmax-mmin\n",
    "    \n",
    "    deltax = delta[0]/(nx-1)\n",
    "    deltay = delta[1]/(ny-1)\n",
    "    deltaz = delta[2]/(nz-1)\n",
    "    \n",
    "    T = np.zeros(((nx-1)*(ny-1)*(nz-1)*6, 4), dtype=np.int64)\n",
    "    V = np.zeros((nx*ny*nz, 3))\n",
    "\n",
    "    mapping = -np.ones((nx, ny, nz), dtype=np.int64)\n",
    "\n",
    "\n",
    "    index = 0\n",
    "    for i in range(nx):\n",
    "        for j in range(ny):\n",
    "            for k in range(nz):\n",
    "                mapping[i, j, k] = index\n",
    "                V[index, :] = [i*deltax, j*deltay, k*deltaz]\n",
    "                index += 1\n",
    "    assert(index == V.shape[0])\n",
    "    \n",
    "    tets = np.array([\n",
    "        [0,1,3,4],\n",
    "        [5,2,6,7],\n",
    "        [4,1,5,3],\n",
    "        [4,3,7,5],\n",
    "        [3,1,5,2],\n",
    "        [2,3,7,5]\n",
    "    ])\n",
    "    \n",
    "    index = 0\n",
    "    for i in range(nx-1):\n",
    "        for j in range(ny-1):\n",
    "            for k in range(nz-1):\n",
    "                indices = [\n",
    "                    (i,   j,   k),\n",
    "                    (i+1, j,   k),\n",
    "                    (i+1, j+1, k),\n",
    "                    (i,   j+1, k),\n",
    "\n",
    "                    (i,   j,   k+1),\n",
    "                    (i+1, j,   k+1),\n",
    "                    (i+1, j+1, k+1),\n",
    "                    (i,   j+1, k+1),\n",
    "                ]\n",
    "                \n",
    "                for t in range(tets.shape[0]):\n",
    "                    tmp = [mapping[indices[ii]] for ii in tets[t, :]]\n",
    "                    T[index, :]=tmp\n",
    "                    index += 1\n",
    "                    \n",
    "    assert(index == T.shape[0])\n",
    "    \n",
    "    V += mmin\n",
    "    return V, T"
   ]
  },
  {
   "cell_type": "markdown",
   "metadata": {
    "tags": []
   },
   "source": [
    "# Reading point cloud"
   ]
  },
  {
   "cell_type": "code",
   "execution_count": 3,
   "metadata": {
    "tags": []
   },
   "outputs": [
    {
     "data": {
      "application/vnd.jupyter.widget-view+json": {
       "model_id": "b08dcc61372f4e7a8999fd4a10d7e6af",
       "version_major": 2,
       "version_minor": 0
      },
      "text/plain": [
       "Renderer(camera=PerspectiveCamera(children=(DirectionalLight(color='white', intensity=0.6, position=(5.0, -23.…"
      ]
     },
     "metadata": {},
     "output_type": "display_data"
    },
    {
     "data": {
      "text/plain": [
       "<meshplot.Viewer.Viewer at 0x2073f7d6fd0>"
      ]
     },
     "execution_count": 3,
     "metadata": {},
     "output_type": "execute_result"
    }
   ],
   "source": [
    "pi, v = igl.read_triangle_mesh(\"data/cat.off\")\n",
    "pi /= 10\n",
    "ni = igl.per_vertex_normals(pi, v)\n",
    "mp.plot(pi, shading={\"point_size\": 8})"
   ]
  },
  {
   "cell_type": "markdown",
   "metadata": {
    "tags": []
   },
   "source": [
    "# Start of Assignment "
   ]
  },
  {
   "cell_type": "markdown",
   "metadata": {
    "tags": []
   },
   "source": [
    "## Helper Functions"
   ]
  },
  {
   "cell_type": "code",
   "execution_count": 4,
   "metadata": {
    "tags": []
   },
   "outputs": [],
   "source": [
    "# TODO: DEFINE POINT\n",
    "def find_closest_point_old(\n",
    "    point: list[float, float, float],\n",
    "    points: list[point]\n",
    ") -> int: \n",
    "    \"\"\"Returns the index of the closest point to the given point in the array.\"\"\"\n",
    "    dists = np.sum((points - point)**2, axis=1) \n",
    "    idx = np.unravel_index(\n",
    "        np.where(dists != 0, dists, dists.max() + 1).argmin(),\n",
    "        dists.shape\n",
    "    )\n",
    "    \n",
    "    return idx[0]\n",
    "    \n",
    "def closest_points_old(\n",
    "    point: list[float, float, float],\n",
    "    points: list[point],\n",
    "    d: float\n",
    ") -> list[int]:\n",
    "    \"\"\"Returns the indices of the closest points to a given point that are less than a distance d away.\"\"\"\n",
    "    dists = np.sum((points - point)**2, axis=1)\n",
    "    dists = np.sum((points - point)**2, axis=1) \n",
    "    indices = np.where(dists < d)\n",
    "    # print( indices[0].tolist())\n",
    "    return indices[0].tolist()\n",
    "    \n",
    "\n",
    "# +++++++++++++++++++++++++++++++++++++++++++++++++++++++++++++\n",
    "def find_closest_point(\n",
    "    point: list[float, float, float],\n",
    "    points: list[point],\n",
    "    spatial_grid: list[point],\n",
    "    unit_vectors: list[point],\n",
    "    step\n",
    ") -> int:\n",
    "    \"\"\"Returns the index of the closest point to the given point in the array taking spatial indexing into account\"\"\"\n",
    "    \n",
    "    # Variables\n",
    "    closest_idx = 0\n",
    "    min_value = 10000\n",
    "    min_point = np.min(points, axis = 0)\n",
    "    distance = np.array([math.floor(x) for x in (point - min_point) / step])\n",
    "\n",
    "    # Get Buffer offset points\n",
    "    check_distance = 1\n",
    "    min_offset_x, min_offset_y, min_offset_z = [max(0, x) for x in (distance - check_distance).astype(int)]\n",
    "    max_offset_x, max_offset_y, max_offset_z = [min(x, y)  for x, y in zip(distance + 1 + check_distance, unit_vectors)] \n",
    "    \n",
    "    # Compute closest idx\n",
    "    for i in range(min_offset_x, max_offset_x):\n",
    "        for j in range(min_offset_y, max_offset_y):\n",
    "            for k in range(min_offset_z, max_offset_z):\n",
    "                idx = int(i + unit_vectors[0] * j + unit_vectors[0] * unit_vectors[1] * k)\n",
    "                \n",
    "                for q in range(len(spatial_grid[idx])):\n",
    "                    d = np.linalg.norm(point - points[spatial_grid[idx][q]])\n",
    "                    if d < min_value:\n",
    "                        closest_idx = spatial_grid[idx][q]\n",
    "                        min_value = d\n",
    "                        \n",
    "    return closest_idx\n",
    "\n",
    "\n",
    "def closest_points(\n",
    "    point: list[float, float, float,],\n",
    "    points: list[point],\n",
    "    h: float,\n",
    "    spatial_grid: list[point],\n",
    "    unit_vectors: list[point],\n",
    "    step: float\n",
    ") -> list[int]:\n",
    "    \"\"\"Returns the indices of the closest points to a given point that are less than a distance d away taking spatial indexing into account.\"\"\"\n",
    "    \n",
    "    #Varaiables\n",
    "    indices = list()\n",
    "    min_point = np.min(points, axis = 0)\n",
    "    original_points_count = int(points.shape[0] / 3)\n",
    "    distance = np.array([math.floor(x) for x in (point - min_point) / step])\n",
    "    \n",
    "    # Get buffer offset points\n",
    "    check_distance = 1\n",
    "    min_offset_x, min_offset_y, min_offset_z = [max(0, x) for x in (distance - check_distance).astype(int)]\n",
    "    max_offset_x, max_offset_y, max_offset_z = [min(x, y)  for x, y in zip(distance + 1 + check_distance, unit_vectors)] \n",
    "    \n",
    "    # Get indices     \n",
    "    for i in range(min_offset_x, max_offset_x):\n",
    "        for j in range(min_offset_y, max_offset_y):\n",
    "            for k in range(min_offset_z, max_offset_z):\n",
    "                idx = int(i + unit_vectors[0] * j + unit_vectors[0] * unit_vectors[1] * k)\n",
    "                \n",
    "                for q in range(len(spatial_grid[idx])):\n",
    "                    \n",
    "                    distance = np.linalg.norm(point - points[spatial_grid[idx][q]])\n",
    "                    if distance < h:\n",
    "                        indices.append(spatial_grid[idx][q])\n",
    "                        \n",
    "                    distance = np.linalg.norm(point - points[original_points_count + spatial_grid[idx][q]])\n",
    "                    if distance < h:\n",
    "                        indices.append(original_points_count + spatial_grid[idx][q])\n",
    "                        \n",
    "                    distance = np.linalg.norm(point - points[original_points_count * 2 + spatial_grid[idx][q]])\n",
    "                    if distance < h:\n",
    "                        indices.append(original_points_count * 2 + spatial_grid[idx][q])\n",
    "                    \n",
    "    return indices\n",
    "    \n",
    "\n",
    "\"\"\"Gets the wendland weights\"\"\"\n",
    "wendland = lambda r, h : pow((1 - (r / h)), 4) * ((4 * (r / h)) + 1) if (r < h) else 0\n",
    "\n",
    "def create_poly(point: tuple[float, float, float], degree: int) -> Optional[list[int]]:\n",
    "    \"\"\" Returns the basis given a point and degree \"\"\"\n",
    "    if degree == 0:\n",
    "        return np.array([1])\n",
    "    elif degree == 1:\n",
    "        return np.array([1, point[0], point[1], point[2]])\n",
    "    elif degree == 2:\n",
    "        return np.array([\n",
    "            1,\n",
    "            grid_point[0],\n",
    "            grid_point[1],\n",
    "            grid_point[2],\n",
    "            grid_point[0] * grid_point[1],\n",
    "            grid_point[1] * grid_point[2],\n",
    "            grid_point[0] * grid_point[2],\n",
    "            grid_point[0] ** 2,\n",
    "            grid_point[1] ** 2,\n",
    "            grid_point[2] ** 2\n",
    "        ])\n",
    "    \n",
    "    return None"
   ]
  },
  {
   "cell_type": "markdown",
   "metadata": {
    "tags": []
   },
   "source": [
    "## Spatial Index to Accelerate Calculations"
   ]
  },
  {
   "cell_type": "code",
   "execution_count": 5,
   "metadata": {},
   "outputs": [],
   "source": [
    "def create_spatial_index(initial_step: float, p: list[Any]) -> Any:\n",
    "    \"\"\" Creates a Spatial Index \"\"\"\n",
    "    min_point = np.amin(p, axis=0)\n",
    "    max_point = np.amax(p, axis=0)\n",
    "    dimension = 1.1 * (max_point - min_point)\n",
    "    diagonal = np.linalg.norm(dimension)\n",
    "    step = initial_step * diagonal\n",
    "    \n",
    "    unit_vectors = np.array([math.ceil(x) for x in dimension / step])\n",
    "    \n",
    "    spatial_grid = [[] for i in range(int(np.prod(unit_vectors)))]\n",
    "    \n",
    "    for i in range(len(p)):\n",
    "        distance = np.array([math.floor(x) for x in (p[i] - min_point) / step])\n",
    "        idx = int(distance[0] + unit_vectors[0] * distance[1] + unit_vectors[0] * unit_vectors[1] * distance[2])\n",
    "        \n",
    "        spatial_grid[idx].append(i)\n",
    "    \n",
    "    return spatial_grid, unit_vectors, step"
   ]
  },
  {
   "cell_type": "markdown",
   "metadata": {
    "tags": []
   },
   "source": [
    "## Setting up the Constraints"
   ]
  },
  {
   "cell_type": "code",
   "execution_count": 6,
   "metadata": {
    "tags": []
   },
   "outputs": [],
   "source": [
    "def get_constraints(pi, ni, spatial_grid, unit_vectors, step):\n",
    "    \"\"\"Sets up the the set of constraint equations by choosing constraint locations and values.\n",
    "    \n",
    "    \n",
    "    - For each point pi in the point cloud, add a constraint of the form f(pi) = di = 0.\n",
    "    - Fix an eps value, for instance eps = 0.01 bounding_box_diagonal.\n",
    "    - For each point pi compute pi+ = pi + eps ni, where ni is the normalized normal of pi. Check that pi is the \n",
    "      closest point to pi+ if not, halve esp and recompute pi+ until this is the case. Then, add another \n",
    "      constraint equation: f(pi+) = eps.\n",
    "    - Repeat the same process for -eps, i.e., add equations of the form f(pi-) = -eps. Do not forget to check \n",
    "      each time that pi is the closest point to pi-.\n",
    "    - Append the tree vectors pi, pi+, and pi- and corresponding f to a unique vector p and f.\n",
    "    \"\"\"\n",
    "    p = np.zeros((pi.shape[0] * 3, 3))\n",
    "    f = np.zeros((pi.shape[0] * 3))\n",
    "\n",
    "    diagonal = igl.bounding_box_diagonal(pi)\n",
    "    epsilon = 0.01 * diagonal\n",
    "    size = len(pi)\n",
    "\n",
    "    for i in range(size):\n",
    "        p[i] = pi[i]\n",
    "        f[i] = 0\n",
    "        \n",
    "        # Get positive epsilon values    \n",
    "        p[i + size] = pi[i] + epsilon * ni[i]    \n",
    "        while find_closest_point(pi[i] + epsilon * ni[i], pi, spatial_grid, unit_vectors, step) != i:\n",
    "            epsilon *= 0.5\n",
    "            \n",
    "        p[i + size] = pi[i] + epsilon * ni[i]\n",
    "        f[i + size] = epsilon\n",
    "\n",
    "        # Get negative epsilon values    \n",
    "        epsilon = 0.01 * diagonal\n",
    "        p[i + 2 * size] = pi[i] - epsilon * ni[i]       \n",
    "        while find_closest_point(pi[i] - epsilon * ni[i], pi, spatial_grid, unit_vectors, step) != i:\n",
    "            eps *= 0.5\n",
    "            \n",
    "        p[i + 2 * size] = pi[i] - epsilon * ni[i]\n",
    "        f[i + 2 * size] = -epsilon \n",
    "    \n",
    "    return p, f"
   ]
  },
  {
   "cell_type": "code",
   "execution_count": 7,
   "metadata": {
    "tags": []
   },
   "outputs": [
    {
     "data": {
      "application/vnd.jupyter.widget-view+json": {
       "model_id": "58e6558003f64ee29922cc70859da5fd",
       "version_major": 2,
       "version_minor": 0
      },
      "text/plain": [
       "Renderer(camera=PerspectiveCamera(children=(DirectionalLight(color='white', intensity=0.6, position=(5.0120944…"
      ]
     },
     "metadata": {},
     "output_type": "display_data"
    },
    {
     "data": {
      "text/plain": [
       "<meshplot.Viewer.Viewer at 0x2072fdd4130>"
      ]
     },
     "execution_count": 7,
     "metadata": {},
     "output_type": "execute_result"
    }
   ],
   "source": [
    "# Variables\n",
    "bbox_min = np.amin(pi, axis=0)\n",
    "bbox_max = np.amax(pi, axis=0)\n",
    "bbox_diagonal = np.linalg.norm(bbox_max - bbox_min)\n",
    "epsilon = 0.01 * bbox_diagonal\n",
    "initial_step = 0.1\n",
    "\n",
    "spatial_grid, unit_vectors, step = create_spatial_index(initial_step, pi)\n",
    "p, f = get_constraints(pi, ni, spatial_grid, unit_vectors, step)\n",
    "\n",
    "colors = np.zeros((pi.shape[0]*3, 3))\n",
    "for i in range(pi.shape[0]):\n",
    "    colors[i] = np.array([1., 0., 0.])\n",
    "    colors[i + pi.shape[0]] = np.array([0., 1., 0.])\n",
    "    colors[i + 2 * pi.shape[0]] = np.array([0., 0., 1.])\n",
    "    \n",
    "\n",
    "mp.plot(p, c=colors, shading={\"point_size\": 8})"
   ]
  },
  {
   "cell_type": "markdown",
   "metadata": {
    "tags": []
   },
   "source": [
    "## MLS Interpolation"
   ]
  },
  {
   "cell_type": "code",
   "execution_count": 8,
   "metadata": {},
   "outputs": [],
   "source": [
    "def evaluate_function(\n",
    "    point: list[float, float, float],\n",
    "    p: list[point],\n",
    "    f: list[point],\n",
    "    spatial_grid: list[point],\n",
    "    unit_vectors: list[point],\n",
    "    degree: int,\n",
    "    radius: float,\n",
    "    step: float\n",
    ") -> None:\n",
    "    \"\"\" Constructs and evaluates an implicit function satisfying the constraints as nearly as possible. \"\"\"\n",
    "    # Variable\n",
    "    indices = closest_points(point, p, radius, spatial_grid, unit_vectors, step)\n",
    "    indices_size = len(indices)\n",
    "    num_poly = 3 ** degree + 1\n",
    "    \n",
    "    # Note if the number of constraint points within wendlandRadius is less than twice the number \n",
    "    # of polynomial coefficients (i.e., 1 for k = 0, 4 for k = 1, and 10 for k = 2), you can \n",
    "    # assign a large positive (outside) value to the grid point.\n",
    "    if poly_degree == 0:\n",
    "        num_poly = 1\n",
    "    \n",
    "    if(indices_size < num_poly * 2):\n",
    "        return 10000\n",
    "    else:\n",
    "        B = np.zeros((indices_size, num_poly))\n",
    "        W = np.eye(indices_size)\n",
    "        constrained_point = p[indices]\n",
    "        constrained_value = f[indices]\n",
    "        \n",
    "        for i in range(indices_size):\n",
    "            B[i] = create_poly(constrained_point[i], degree)\n",
    "            W[i, i] = wendland(np.linalg.norm(point - constrained_point[i], 2), radius)\n",
    "\n",
    "        ax = np.linalg.solve(((B.T).dot(W)).dot(B), ((B.T).dot(W)).dot(constrained_value))\n",
    "        return create_poly(point, degree).dot(ax)    "
   ]
  },
  {
   "cell_type": "code",
   "execution_count": 9,
   "metadata": {},
   "outputs": [
    {
     "data": {
      "application/vnd.jupyter.widget-view+json": {
       "model_id": "a06b505b2aed4e68805b6b3e1c826ffd",
       "version_major": 2,
       "version_minor": 0
      },
      "text/plain": [
       "Renderer(camera=PerspectiveCamera(children=(DirectionalLight(color='white', intensity=0.6, position=(5.0, -23.…"
      ]
     },
     "metadata": {},
     "output_type": "display_data"
    },
    {
     "data": {
      "text/plain": [
       "<meshplot.Viewer.Viewer at 0x2073eb16b80>"
      ]
     },
     "execution_count": 9,
     "metadata": {},
     "output_type": "execute_result"
    }
   ],
   "source": [
    "resolution = 15\n",
    "x, T = tet_grid(\n",
    "    (resolution, resolution, resolution),\n",
    "    bbox_min - 0.05 * bbox_diagonal,\n",
    "    bbox_max + 0.05 * bbox_diagonal\n",
    ")\n",
    "\n",
    "poly_degree = 1\n",
    "wendland_radius = bbox_diagonal * 0.1\n",
    "distance = 20\n",
    "\n",
    "fx = np.array([\n",
    "    evaluate_function(\n",
    "        point, p, f, spatial_grid, unit_vectors, poly_degree, wendland_radius, step\n",
    "    ) for point in x\n",
    "])\n",
    "\n",
    "colors = np.zeros_like(fx)\n",
    "colors[fx < 0] = -1\n",
    "colors[fx >= 0] = 1\n",
    "\n",
    "mp.plot(x, c=colors, shading={\"point_size\": 6, \"width\": 1000, \"height\": 1000})"
   ]
  },
  {
   "cell_type": "markdown",
   "metadata": {
    "tags": []
   },
   "source": [
    "## Extracting the Surface"
   ]
  },
  {
   "cell_type": "code",
   "execution_count": 11,
   "metadata": {},
   "outputs": [
    {
     "data": {
      "application/vnd.jupyter.widget-view+json": {
       "model_id": "8797c36f04c546b5982fae4225b5881b",
       "version_major": 2,
       "version_minor": 0
      },
      "text/plain": [
       "Renderer(camera=PerspectiveCamera(children=(DirectionalLight(color='white', intensity=0.6, position=(6.2883472…"
      ]
     },
     "metadata": {},
     "output_type": "display_data"
    },
    {
     "data": {
      "text/plain": [
       "<meshplot.Viewer.Viewer at 0x20720871eb0>"
      ]
     },
     "execution_count": 11,
     "metadata": {},
     "output_type": "execute_result"
    }
   ],
   "source": [
    "def marching_tet(\n",
    "    x: list[float, float, float],\n",
    "    T: Any,\n",
    "    fx: list[point]\n",
    ") -> tuple[Any, Any]:\n",
    "    \"\"\" Use marching tets to extract the zero isosurface from grid. \"\"\"\n",
    "    sv, sf, _, _ = igl.marching_tets(x, T, fx, 0)\n",
    "\n",
    "    # Generate face components\n",
    "    f = igl.face_components(sf)\n",
    "    components = list()\n",
    "    for i in range(f.shape[0]):\n",
    "        if f[i] not in components:\n",
    "            components.append(f[i])\n",
    "    \n",
    "    connected_components = np.zeros(len(components))\n",
    "    \n",
    "    for i in range(f.shape[0]):\n",
    "        connected_components[f[i]] += 1\n",
    "    \n",
    "    return sv, sf[f == np.argmax(connected_components)]\n",
    "\n",
    "\n",
    "sv, new_sf = marching_tet(x, T, fx)\n",
    "mp.plot(sv, new_sf, shading={\"wireframe\": True}) "
   ]
  },
  {
   "cell_type": "markdown",
   "metadata": {},
   "source": [
    "## Output for Extracting the Surface"
   ]
  },
  {
   "cell_type": "code",
   "execution_count": 12,
   "metadata": {},
   "outputs": [],
   "source": [
    "def extract_surface_full(datapath, resolution, step, degree, radius_rate) -> None:\n",
    "    \"\"\" Quick Acess function to quickly render the surface for diff values \"\"\"\n",
    "    bbox_min = np.amin(pi, axis=0)\n",
    "    bbox_max = np.amax(pi, axis=0)\n",
    "    bbox_diagonal = np.linalg.norm(bbox_max - bbox_min)\n",
    "    epsilon = 0.01 * bbox_diagonal\n",
    "    initial_step = 0.1\n",
    "\n",
    "    spatial_grid, unit_vectors, step = create_spatial_index(initial_step, pi)\n",
    "    p, f = get_constraints(pi, ni, spatial_grid, unit_vectors, step)\n",
    "\n",
    "    x, T = tet_grid(\n",
    "        (resolution, resolution, resolution),\n",
    "        bbox_min - 0.05 * bbox_diagonal,\n",
    "        bbox_max + 0.05 * bbox_diagonal\n",
    "    )\n",
    "\n",
    "    wendland_radius = bbox_diagonal * radius_rate\n",
    "    distance = 20\n",
    "\n",
    "    fx = np.array([\n",
    "        evaluate_function(\n",
    "            point, p, f, spatial_grid, unit_vectors, poly_degree, wendland_radius, step\n",
    "        ) for point in x\n",
    "    ])\n",
    "\n",
    "    marching_tet(x, T, fx)\n",
    "    mp.plot(sv, new_sf, shading={\"wireframe\": True}) \n",
    "    "
   ]
  },
  {
   "cell_type": "code",
   "execution_count": 13,
   "metadata": {},
   "outputs": [
    {
     "data": {
      "application/vnd.jupyter.widget-view+json": {
       "model_id": "8030b227a930420f9cf90ec99bbb08fc",
       "version_major": 2,
       "version_minor": 0
      },
      "text/plain": [
       "Renderer(camera=PerspectiveCamera(children=(DirectionalLight(color='white', intensity=0.6, position=(6.2883472…"
      ]
     },
     "metadata": {},
     "output_type": "display_data"
    }
   ],
   "source": [
    "extract_surface_full(\"data/cat.off\", 20, 0.06, degree = 1, radius_rate = 0.1)"
   ]
  },
  {
   "cell_type": "code",
   "execution_count": 14,
   "metadata": {},
   "outputs": [
    {
     "data": {
      "application/vnd.jupyter.widget-view+json": {
       "model_id": "b3378cd5c07c401fa31d9467d06395e4",
       "version_major": 2,
       "version_minor": 0
      },
      "text/plain": [
       "Renderer(camera=PerspectiveCamera(children=(DirectionalLight(color='white', intensity=0.6, position=(6.2883472…"
      ]
     },
     "metadata": {},
     "output_type": "display_data"
    }
   ],
   "source": [
    "extract_surface_full(\"data/cat.off\", 20, 0.06, degree = 1, radius_rate = 0.1)"
   ]
  },
  {
   "cell_type": "code",
   "execution_count": 15,
   "metadata": {},
   "outputs": [
    {
     "data": {
      "application/vnd.jupyter.widget-view+json": {
       "model_id": "563ba63574cb4b1794e827f351dd13a8",
       "version_major": 2,
       "version_minor": 0
      },
      "text/plain": [
       "Renderer(camera=PerspectiveCamera(children=(DirectionalLight(color='white', intensity=0.6, position=(6.2883472…"
      ]
     },
     "metadata": {},
     "output_type": "display_data"
    }
   ],
   "source": [
    "extract_surface_full(\"data/cat.off\", 40, 0.05, degree = 1, radius_rate = 0.3)"
   ]
  },
  {
   "cell_type": "code",
   "execution_count": 16,
   "metadata": {},
   "outputs": [
    {
     "data": {
      "application/vnd.jupyter.widget-view+json": {
       "model_id": "8365337cc32c4d62b7e6017bb0b97ddf",
       "version_major": 2,
       "version_minor": 0
      },
      "text/plain": [
       "Renderer(camera=PerspectiveCamera(children=(DirectionalLight(color='white', intensity=0.6, position=(6.2883472…"
      ]
     },
     "metadata": {},
     "output_type": "display_data"
    }
   ],
   "source": [
    "extract_surface_full(\"data/cat.off\", 40, 0.01, degree = 2, radius_rate = 0.1)"
   ]
  },
  {
   "cell_type": "code",
   "execution_count": null,
   "metadata": {},
   "outputs": [],
   "source": []
  }
 ],
 "metadata": {
  "kernelspec": {
   "display_name": "Python 3 (ipykernel)",
   "language": "python",
   "name": "python3"
  },
  "language_info": {
   "codemirror_mode": {
    "name": "ipython",
    "version": 3
   },
   "file_extension": ".py",
   "mimetype": "text/x-python",
   "name": "python",
   "nbconvert_exporter": "python",
   "pygments_lexer": "ipython3",
   "version": "3.9.12"
  }
 },
 "nbformat": 4,
 "nbformat_minor": 4
}
