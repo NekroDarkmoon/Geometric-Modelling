{
 "cells": [
  {
   "cell_type": "markdown",
   "metadata": {},
   "source": [
    "# Assigment 4"
   ]
  },
  {
   "cell_type": "code",
   "execution_count": 1,
   "metadata": {},
   "outputs": [],
   "source": [
    "import math\n",
    "import numpy as np\n",
    "import scipy.sparse as sp\n",
    "\n",
    "import igl\n",
    "import meshplot as mp\n",
    "\n",
    "from math import sqrt\n",
    "\n",
    "from typing import Any, Callable"
   ]
  },
  {
   "cell_type": "code",
   "execution_count": 2,
   "metadata": {},
   "outputs": [],
   "source": [
    "v, f = igl.read_triangle_mesh(\"data/irr4-cyl2.off\")\n",
    "tt, _ = igl.triangle_triangle_adjacency(f)\n",
    "\n",
    "c = np.loadtxt(\"data/irr4-cyl2.constraints\")\n",
    "cf = c[:, 0].astype(np.int64)\n",
    "c = c[:, 1:]"
   ]
  },
  {
   "cell_type": "code",
   "execution_count": 3,
   "metadata": {
    "tags": []
   },
   "outputs": [],
   "source": [
    "def align_field(V, F, TT, soft_id, soft_value, llambda):\n",
    "    assert(soft_id[0] > 0)\n",
    "    assert(soft_id.shape[0] == soft_value.shape[0])\n",
    "\n",
    "    \n",
    "    # Edges\n",
    "    e1 = V[F[:, 1], :] - V[F[:, 0], :]\n",
    "    e2 = V[F[:, 2], :] - V[F[:, 0], :]\n",
    "\n",
    "    # Compute the local reference systems for each face, T1, T2\n",
    "    T1 = e1 / np.linalg.norm(e1, axis=1)[:,None]\n",
    "        \n",
    "    T2 =  np.cross(T1, np.cross(T1, e2))\n",
    "    T2 /= np.linalg.norm(T2, axis=1)[:,None]\n",
    "  \n",
    "    # Arrays for the entries of the matrix\n",
    "    data = []\n",
    "    ii = []\n",
    "    jj = []\n",
    "    \n",
    "    index = 0\n",
    "    for f in range(F.shape[0]):\n",
    "        for ei in range(3): # Loop over the edges\n",
    "            \n",
    "            # Look up the opposite face\n",
    "            g = TT[f, ei]\n",
    "            \n",
    "            # If it is a boundary edge, it does not contribute to the energy\n",
    "            # or avoid to count every edge twice\n",
    "            if g == -1 or f > g:\n",
    "                continue\n",
    "                \n",
    "            # Compute the complex representation of the common edge\n",
    "            e  = V[F[f, (ei+1)%3], :] - V[F[f, ei], :]\n",
    "            \n",
    "            vef = np.array([np.dot(e, T1[f, :]), np.dot(e, T2[f, :])])\n",
    "            vef /= np.linalg.norm(vef)\n",
    "            ef = (vef[0] + vef[1]*1j).conjugate()\n",
    "            \n",
    "            veg = np.array([np.dot(e, T1[g, :]), np.dot(e, T2[g, :])])\n",
    "            veg /= np.linalg.norm(veg)\n",
    "            eg = (veg[0] + veg[1]*1j).conjugate()\n",
    "            \n",
    "            \n",
    "            # Add the term conj(f)^n*ui - conj(g)^n*uj to the energy matrix\n",
    "            data.append(ef);  ii.append(index); jj.append(f)\n",
    "            data.append(-eg); ii.append(index); jj.append(g)\n",
    "\n",
    "            index += 1\n",
    "            \n",
    "    \n",
    "    sqrtl = sqrt(llambda)\n",
    "    \n",
    "    # Convert the constraints into the complex polynomial coefficients and add them as soft constraints\n",
    "    \n",
    "    # Rhs of the system\n",
    "    b = np.zeros(index + soft_id.shape[0], dtype=complex)\n",
    "    \n",
    "    for ci in range(soft_id.shape[0]):\n",
    "        f = soft_id[ci]\n",
    "        v = soft_value[ci, :]\n",
    "        \n",
    "        # Project on the local frame\n",
    "        c = np.dot(v, T1[f, :]) + np.dot(v, T2[f, :])*1j\n",
    "        \n",
    "        data.append(sqrtl); ii.append(index); jj.append(f)\n",
    "        b[index] = c * sqrtl\n",
    "        \n",
    "        index += 1\n",
    "    \n",
    "    assert(b.shape[0] == index)\n",
    "    \n",
    "    \n",
    "    # Solve the linear system\n",
    "    A = sp.coo_matrix((data, (ii, jj)), shape=(index, F.shape[0])).asformat(\"csr\")\n",
    "    u = sp.linalg.spsolve(A.H @ A, A.H @ b)\n",
    "    \n",
    "    R = T1 * u.real[:,None] + T2 * u.imag[:,None]\n",
    "\n",
    "    return R"
   ]
  },
  {
   "cell_type": "code",
   "execution_count": 4,
   "metadata": {},
   "outputs": [],
   "source": [
    "def plot_mesh_field(V, F, R, constrain_faces):\n",
    "    # Highlight in red the constrained faces\n",
    "    col = np.ones_like(f)\n",
    "    col[constrain_faces, 1:] = 0\n",
    "    \n",
    "    # Scaling of the representative vectors\n",
    "    avg = igl.avg_edge_length(V, F)/2\n",
    "\n",
    "    #Plot from face barycenters\n",
    "    B = igl.barycenter(V, F)\n",
    "\n",
    "    p = mp.plot(V, F, c=col)\n",
    "    p.add_lines(B, B + R * avg)\n",
    "    \n",
    "    return p"
   ]
  },
  {
   "cell_type": "code",
   "execution_count": 5,
   "metadata": {
    "tags": []
   },
   "outputs": [
    {
     "data": {
      "application/vnd.jupyter.widget-view+json": {
       "model_id": "c1216387f9f040fb990395d37c25f0fc",
       "version_major": 2,
       "version_minor": 0
      },
      "text/plain": [
       "Renderer(camera=PerspectiveCamera(children=(DirectionalLight(color='white', intensity=0.6, position=(0.0, 0.0,…"
      ]
     },
     "metadata": {},
     "output_type": "display_data"
    },
    {
     "data": {
      "text/plain": [
       "<meshplot.Viewer.Viewer at 0x1e14597c640>"
      ]
     },
     "execution_count": 5,
     "metadata": {},
     "output_type": "execute_result"
    }
   ],
   "source": [
    "R = align_field(v, f, tt, cf, c, 1e6)\n",
    "plot_mesh_field(v, f, R, cf)"
   ]
  },
  {
   "cell_type": "markdown",
   "metadata": {},
   "source": [
    "# Part 1 - Tangent vector fields for scalar field design"
   ]
  },
  {
   "cell_type": "code",
   "execution_count": 6,
   "metadata": {},
   "outputs": [],
   "source": [
    "def construct_vector_field(\n",
    "    vertices: list[Any],\n",
    "    faces: list[Any],\n",
    "    trig_trig_adj: list[Any],\n",
    "    hard_id: list[Any],\n",
    "    hard_value: list[Any]\n",
    ") -> list[Any]:\n",
    "    # Compute edges for each face\n",
    "    edges1 = vertices[faces[:, 1], :] - vertices[faces[:, 0], :]\n",
    "    edges2 = vertices[faces[:, 2], :] - vertices[faces[:, 0], :]\n",
    "    \n",
    "    # Compute local basis for each face     \n",
    "    T1 = edges1 / np.linalg.norm(edges1, axis=1)[:, None]\n",
    "    T2 = np.cross(T1, np.cross(T1, edges2))\n",
    "    T2 /= np.linalg.norm(T2, axis=1)[:, None]\n",
    "    \n",
    "    # Ready Arrays\n",
    "    data, ii, jj = list(), list(), list() \n",
    "    \n",
    "    # Ready sets for bijectives\n",
    "    m ,n = {}, {}\n",
    "    \n",
    "    # Track idx for m and n\n",
    "    idx = 0\n",
    "    \n",
    "    # Loop over all the faces\n",
    "    for face in range(faces.shape[0]):\n",
    "        # Loop over edges\n",
    "        for edge in range(3):\n",
    "            opposite_face = trig_trig_adj[face, edge]\n",
    "            if (opposite_face == -1) or (face > opposite_face):\n",
    "                continue\n",
    "            \n",
    "            # Compute complex shared edge\n",
    "            shared_edge = vertices[faces[face, (edge + 1) % 3], :] - vertices[faces[face, edge], :]\n",
    "            \n",
    "            vector_f = np.array([np.dot(shared_edge, T1[face, :]), np.dot(shared_edge, T2[face, :])])\n",
    "            vector_f /= np.linalg.norm(vector_f)\n",
    "            edge_f = vector_f[0] + vector_f[1] * 1J\n",
    "            edge_f_conjugate = edge_f.conjugate()\n",
    "                \n",
    "            vector_g = np.array([np.dot(shared_edge, T1[opposite_face, :]), np.dot(shared_edge, T2[opposite_face, :])])\n",
    "            vector_g /= np.linalg.norm(vector_g)\n",
    "            edge_g = vector_g[0] + vector_g[1] * 1J\n",
    "            edge_g_conjugate = edge_g.conjugate()\n",
    "            \n",
    "            # Add to prepared arrays\n",
    "            data.append(1); ii.append(face); jj.append(face)\n",
    "            data.append(1); ii.append(opposite_face); jj.append(opposite_face)\n",
    "            \n",
    "            data.append(-edge_f * edge_g_conjugate); ii.append(face); jj.append(opposite_face)\n",
    "            data.append(edge_g * -edge_f_conjugate); ii.append(opposite_face); jj.append(face)\n",
    "        \n",
    "        # Skip if in hard constraint\n",
    "        if face in hard_id:\n",
    "            continue\n",
    "        \n",
    "        # Add to bijectives\n",
    "        m[idx] = face\n",
    "        n[face] = idx\n",
    "        \n",
    "        idx += 1\n",
    "    \n",
    "    # Construct Q matrix\n",
    "    Q = sp.coo_matrix( (data, (ii, jj)), shape=(faces.shape[0], faces.shape[0])).asformat('csr')\n",
    "    data, ii, jj = list(), list(), list() \n",
    "    \n",
    "    \n",
    "    # Energy Formulation [f(u) = A*Au - A*b = 0]\n",
    "    u = np.zeros(faces.shape[0], dtype=complex)\n",
    "    b = np.zeros((idx, 1), dtype=complex)\n",
    "    \n",
    "    # System assembly for hard constraints\n",
    "    for i in range(idx):\n",
    "        for j in Q.getrow(m[i]).nonzero()[1]:\n",
    "            if j not in hard_id:\n",
    "                data.append(Q[m[i], j])\n",
    "                ii.append(i)\n",
    "                jj.append(n[j])\n",
    "            \n",
    "        for ci in range(hard_id.shape[0]):\n",
    "            face, vertex = hard_id[ci], hard_value[ci, :]\n",
    "            \n",
    "            # Project on to local frame\n",
    "            constraint = np.dot(vertex, T1[face, :]) + np.dot(vertex, T2[face, :]) *1J\n",
    "            \n",
    "            # Update u and b\n",
    "            u[face] = constraint\n",
    "            b[i] -= constraint * Q[m[i], face] \n",
    "    \n",
    "    # Solve linear system under hard constraints. \n",
    "    A = sp.coo_matrix( (data, (ii, jj)), shape=(idx, idx)).asformat('csr')\n",
    "    temp_u = sp.linalg.spsolve(A, b)\n",
    "    \n",
    "    # Replace in U to maintain shape\n",
    "    for i in range(idx):\n",
    "        u[m[i]] = temp_u[i]\n",
    "    \n",
    "    # Extract Interpolated Field\n",
    "    R = T1 * u.real[:, None] + T2 * u.imag[:, None]\n",
    "    return R\n",
    "    "
   ]
  },
  {
   "cell_type": "code",
   "execution_count": 8,
   "metadata": {
    "tags": []
   },
   "outputs": [
    {
     "data": {
      "application/vnd.jupyter.widget-view+json": {
       "model_id": "492a49ad971d46f58171a7febdb4cc77",
       "version_major": 2,
       "version_minor": 0
      },
      "text/plain": [
       "Renderer(camera=PerspectiveCamera(children=(DirectionalLight(color='white', intensity=0.6, position=(0.0, 0.0,…"
      ]
     },
     "metadata": {},
     "output_type": "display_data"
    },
    {
     "name": "stdout",
     "output_type": "stream",
     "text": [
      "[[ 0.23591958 -0.2272005   0.39047189]\n",
      " [-0.42277571  0.13051135 -0.14899519]\n",
      " [ 0.68709978 -0.24579441 -0.29458214]\n",
      " ...\n",
      " [ 0.44584006 -0.09987585  0.05341989]\n",
      " [ 0.34755951 -0.66810857  0.60711695]\n",
      " [ 0.4087346  -0.67078033  0.56895471]]\n"
     ]
    }
   ],
   "source": [
    "R = construct_vector_field(v, f, tt, cf, c)\n",
    "plot_mesh_field(v, f, R, cf)\n",
    "print(R)"
   ]
  },
  {
   "cell_type": "markdown",
   "metadata": {},
   "source": [
    "# Part 2 - Scalar Field Design"
   ]
  },
  {
   "cell_type": "code",
   "execution_count": 9,
   "metadata": {},
   "outputs": [],
   "source": [
    "def construct_scalar_field(\n",
    "    vertices: list[Any],\n",
    "    faces: list[Any],\n",
    "    interpolated_field: list[Any]\n",
    ") -> tuple[list[Any], list[Any]]:\n",
    "    # Compute Area and gradients\n",
    "    gradients = igl.grad(vertices, faces)\n",
    "    area = igl.doublearea(vertices, faces) / 2\n",
    "    \n",
    "    # Create weight matrix\n",
    "    weights = sp.diags(np.concatenate((area, area, area)))\n",
    "    \n",
    "    # Compute u_t    \n",
    "    u = np.concatenate((\n",
    "        interpolated_field[:, 0],\n",
    "        interpolated_field[:, 1],\n",
    "        interpolated_field[:, 2]\n",
    "    ))\n",
    "    \n",
    "    # Calculate b & K by expanding least square formula\n",
    "    b = (-2 * gradients.transpose().dot(weights).dot(u))[1: ]\n",
    "    K = 2 * (gradients.transpose().dot(weights).dot(gradients))[1:, 1:]\n",
    "    \n",
    "    # Solve for s\n",
    "    s = np.concatenate((np.array([0]), sp.linalg.spsolve(K, -b)))\n",
    "    \n",
    "    # Compute gradient\n",
    "    gradient = gradients.dot(s).reshape((3, faces.shape[0])).transpose()\n",
    "    s = s.reshape(s.shape[0], 1)\n",
    "    \n",
    "    return s, gradient\n",
    "    \n"
   ]
  },
  {
   "cell_type": "code",
   "execution_count": 10,
   "metadata": {
    "tags": []
   },
   "outputs": [
    {
     "name": "stdout",
     "output_type": "stream",
     "text": [
      "[[ 0.        ]\n",
      " [-0.76446078]\n",
      " [ 0.91827024]\n",
      " [ 0.96196406]\n",
      " [ 0.04628406]\n",
      " [-0.03356961]\n",
      " [ 0.1166635 ]\n",
      " [ 0.0375994 ]\n",
      " [ 1.06933835]\n",
      " [ 0.10824325]\n",
      " [ 0.34406749]\n",
      " [ 0.99538273]\n",
      " [ 0.60028518]\n",
      " [ 0.37920076]\n",
      " [ 0.26212548]\n",
      " [-0.38586703]\n",
      " [-0.30455482]\n",
      " [ 0.09887735]\n",
      " [ 0.14013563]\n",
      " [-0.06500472]\n",
      " [ 0.47010329]\n",
      " [ 0.31292944]\n",
      " [ 0.58217911]\n",
      " [ 0.18454032]\n",
      " [ 1.01814364]\n",
      " [ 0.97105447]\n",
      " [ 1.05592144]\n",
      " [ 0.50693882]\n",
      " [ 0.59984643]\n",
      " [ 0.53276802]\n",
      " [ 0.31799488]\n",
      " [ 0.73893937]\n",
      " [ 0.57953849]\n",
      " [ 0.19878317]\n",
      " [ 0.1723607 ]\n",
      " [ 0.00907722]\n",
      " [ 0.05661388]\n",
      " [-0.12403086]\n",
      " [ 0.14186179]\n",
      " [ 0.21680932]\n",
      " [ 0.09211278]\n",
      " [-0.03750692]\n",
      " [-0.12641178]\n",
      " [-0.58201624]\n",
      " [ 0.14224591]\n",
      " [ 0.12540661]\n",
      " [ 0.1469902 ]\n",
      " [ 0.195992  ]\n",
      " [ 0.08153612]\n",
      " [-0.15066812]\n",
      " [-0.20635038]\n",
      " [-0.50386682]\n",
      " [-0.19136987]\n",
      " [ 0.00517524]\n",
      " [ 0.05415595]\n",
      " [ 0.12011937]\n",
      " [ 0.09515583]\n",
      " [ 0.08696624]\n",
      " [ 0.11197622]\n",
      " [-0.07971778]\n",
      " [-0.007735  ]\n",
      " [-0.01119985]\n",
      " [-0.00718443]\n",
      " [ 0.10580208]\n",
      " [-0.31369651]\n",
      " [-0.45287251]\n",
      " [-0.33441159]\n",
      " [ 0.05587202]\n",
      " [ 0.12412472]\n",
      " [ 0.18782344]\n",
      " [ 0.27934195]\n",
      " [ 0.15011393]\n",
      " [ 0.20065495]\n",
      " [ 0.28975587]\n",
      " [ 0.25268915]\n",
      " [ 0.41590342]\n",
      " [ 0.54464477]\n",
      " [ 0.43764354]\n",
      " [ 0.72893258]\n",
      " [ 1.03978566]\n",
      " [ 0.76909781]\n",
      " [ 0.62105231]\n",
      " [ 0.75693082]\n",
      " [ 0.96432425]\n",
      " [ 0.6903468 ]\n",
      " [ 0.72198522]\n",
      " [ 0.54334751]\n",
      " [ 0.40188341]\n",
      " [ 0.14580503]\n",
      " [ 0.05644384]\n",
      " [ 0.25073922]\n",
      " [ 0.22219846]\n",
      " [ 0.34222303]\n",
      " [ 0.75513919]\n",
      " [ 0.71056087]\n",
      " [ 0.40878327]\n",
      " [ 0.35336882]\n",
      " [ 0.79092343]\n",
      " [ 0.28268392]\n",
      " [ 0.2756651 ]\n",
      " [ 0.20918193]\n",
      " [ 0.16154812]\n",
      " [ 0.30698675]\n",
      " [ 0.37766431]\n",
      " [ 0.49123574]\n",
      " [ 0.62706198]\n",
      " [ 0.3312361 ]\n",
      " [ 0.26986346]\n",
      " [ 0.35425115]\n",
      " [ 0.46410441]\n",
      " [ 0.19143324]\n",
      " [ 0.42609354]\n",
      " [ 0.39812621]\n",
      " [ 0.43189789]\n",
      " [ 0.41211432]\n",
      " [ 0.28548178]\n",
      " [ 0.48269822]\n",
      " [ 0.57969953]\n",
      " [ 0.45481956]\n",
      " [ 0.23932568]\n",
      " [ 0.35567194]\n",
      " [ 0.11711489]\n",
      " [ 0.1068222 ]\n",
      " [ 0.04600861]\n",
      " [-0.04197915]\n",
      " [-0.10253466]\n",
      " [-0.03674053]\n",
      " [ 0.11358972]\n",
      " [ 0.12151052]\n",
      " [ 0.06036552]\n",
      " [-0.00725314]\n",
      " [ 0.16640812]\n",
      " [-0.21060748]\n",
      " [-0.20667757]\n",
      " [-0.25094185]\n",
      " [-0.40338192]\n",
      " [-0.19108776]\n",
      " [-0.09809691]\n",
      " [-0.01852615]\n",
      " [ 0.05293709]\n",
      " [ 0.11624996]\n",
      " [ 0.03203669]\n",
      " [ 0.07052333]\n",
      " [ 0.00787242]\n",
      " [-0.08388299]\n",
      " [-0.02238591]\n",
      " [-0.05810344]\n",
      " [ 0.09798634]\n",
      " [ 0.07859086]\n",
      " [ 0.12272802]\n",
      " [ 0.1539035 ]\n",
      " [ 0.14887944]\n",
      " [ 0.12741218]\n",
      " [ 0.17623772]\n",
      " [ 0.21615686]\n",
      " [ 0.17241427]\n",
      " [ 0.17966558]\n",
      " [ 0.12245252]\n",
      " [-0.11656933]\n",
      " [-0.06662391]\n",
      " [-0.18836859]\n",
      " [ 0.16257355]\n",
      " [ 0.21524966]\n",
      " [ 0.24790818]\n",
      " [ 0.24615513]\n",
      " [ 0.09361138]\n",
      " [ 0.11173671]\n",
      " [ 0.08037238]\n",
      " [ 0.06099859]\n",
      " [ 0.04015753]\n",
      " [ 0.09231909]\n",
      " [ 0.11275226]\n",
      " [ 0.10974994]\n",
      " [ 0.1217985 ]\n",
      " [ 0.07731141]\n",
      " [ 0.11479895]\n",
      " [ 0.06223685]\n",
      " [ 0.00177878]\n",
      " [ 0.01894822]\n",
      " [ 0.08032435]\n",
      " [ 0.0344314 ]\n",
      " [ 0.08643562]\n",
      " [ 0.1147784 ]\n",
      " [ 0.1239945 ]\n",
      " [ 0.12803255]\n",
      " [ 0.03327449]\n",
      " [ 0.00272657]\n",
      " [ 0.13769578]\n",
      " [ 0.11522979]\n",
      " [ 0.11616039]\n",
      " [-0.26296787]\n",
      " [-0.30979888]\n",
      " [ 0.07957365]\n",
      " [ 0.57395283]\n",
      " [ 0.6478158 ]\n",
      " [ 0.03228417]\n",
      " [-0.01325765]\n",
      " [-0.0872161 ]\n",
      " [-0.10889633]\n",
      " [-0.01822499]\n",
      " [-0.06594087]\n",
      " [ 0.28549791]\n",
      " [ 0.16342165]\n",
      " [-0.28908769]\n",
      " [-0.17158099]\n",
      " [-0.21485563]\n",
      " [-0.30056578]\n",
      " [-0.48284535]\n",
      " [-0.43231536]\n",
      " [-0.49713248]\n",
      " [-0.67715645]\n",
      " [-0.61508175]\n",
      " [ 0.07923684]\n",
      " [ 0.66525767]\n",
      " [ 0.7860808 ]\n",
      " [ 0.69407958]\n",
      " [ 0.61587024]\n",
      " [ 1.03855223]\n",
      " [ 0.99554337]\n",
      " [ 0.90916582]\n",
      " [ 0.88212088]\n",
      " [ 0.87328517]\n",
      " [ 1.05837912]\n",
      " [ 0.74681389]\n",
      " [ 1.06750569]\n",
      " [ 0.88295959]\n",
      " [ 0.89951013]\n",
      " [ 0.85103348]\n",
      " [ 0.82707334]\n",
      " [ 0.73817894]\n",
      " [ 0.94514043]\n",
      " [ 0.69836088]\n",
      " [ 0.89944734]\n",
      " [ 0.87192095]\n",
      " [ 0.68290089]\n",
      " [ 0.80112429]\n",
      " [ 0.38671878]\n",
      " [ 0.76312951]\n",
      " [ 0.65746251]\n",
      " [ 0.56277991]\n",
      " [ 0.4901803 ]\n",
      " [ 0.47800979]\n",
      " [ 0.66811039]\n",
      " [ 0.59492789]\n",
      " [ 0.51968842]\n",
      " [ 0.42972993]\n",
      " [ 0.69673308]\n",
      " [ 1.01780363]\n",
      " [ 0.71226656]\n",
      " [ 0.63081675]\n",
      " [ 0.53200165]\n",
      " [ 0.48264853]\n",
      " [ 0.47528941]\n",
      " [ 0.44180784]\n",
      " [ 0.4214744 ]\n",
      " [ 0.33943484]\n",
      " [ 0.34870778]\n",
      " [ 0.2508696 ]\n",
      " [ 0.33843506]\n",
      " [ 0.36995984]\n",
      " [ 0.63170428]\n",
      " [ 0.62758448]\n",
      " [ 0.63685219]\n",
      " [ 0.53253927]\n",
      " [ 0.45951169]\n",
      " [ 0.28577925]\n",
      " [ 0.24317982]\n",
      " [ 0.24407068]\n",
      " [ 0.29027556]\n",
      " [ 0.29397995]\n",
      " [ 0.55744379]\n",
      " [ 0.65027822]\n",
      " [ 0.75278212]\n",
      " [ 0.97670905]\n",
      " [ 0.83399405]\n",
      " [ 0.95805267]\n",
      " [ 0.85154144]\n",
      " [ 0.85785759]\n",
      " [ 0.62835644]\n",
      " [ 0.57581034]\n",
      " [ 0.61203061]\n",
      " [ 0.72039126]\n",
      " [ 0.44069327]\n",
      " [ 0.80700284]\n",
      " [ 0.2245827 ]\n",
      " [ 0.51983968]\n",
      " [ 0.89191989]\n",
      " [ 0.79772737]\n",
      " [ 0.21121194]\n",
      " [ 0.17954782]\n",
      " [ 0.12706027]\n",
      " [ 0.13982349]\n",
      " [-0.06633872]\n",
      " [-0.04124803]\n",
      " [-0.02166212]\n",
      " [-0.04360574]\n",
      " [-0.04643433]\n",
      " [-0.01356453]\n",
      " [ 0.02546004]\n",
      " [-0.03018566]\n",
      " [ 0.04864721]\n",
      " [ 0.09029068]\n",
      " [ 0.13204517]\n",
      " [ 0.17226379]\n",
      " [ 0.01744329]\n",
      " [ 0.12422809]\n",
      " [ 0.1736926 ]\n",
      " [ 0.08298177]\n",
      " [ 0.15890417]\n",
      " [-0.43550107]\n",
      " [-0.5240786 ]\n",
      " [-0.36398984]\n",
      " [ 0.09557564]\n",
      " [ 0.07656659]\n",
      " [ 0.04964609]\n",
      " [ 0.12629526]\n",
      " [ 0.04725683]\n",
      " [ 0.08929538]\n",
      " [ 0.1527156 ]\n",
      " [ 0.19210355]\n",
      " [ 0.10322966]\n",
      " [ 0.24670272]\n",
      " [ 0.32741164]\n",
      " [ 0.30646656]\n",
      " [ 0.20235024]\n",
      " [ 0.27933482]\n",
      " [ 0.31525086]\n",
      " [ 0.32794092]\n",
      " [ 0.35954703]\n",
      " [ 0.23337222]\n",
      " [ 0.25735963]\n",
      " [ 0.43298845]\n",
      " [ 0.49816049]\n",
      " [ 0.5416126 ]\n",
      " [ 0.28638244]\n",
      " [ 0.41404318]\n",
      " [ 0.20089295]\n",
      " [ 0.39069104]\n",
      " [ 0.47285447]\n",
      " [ 0.55067042]\n",
      " [ 0.24054522]\n",
      " [ 0.34660333]\n",
      " [ 0.17084164]\n",
      " [-0.14161076]\n",
      " [-0.33091815]\n",
      " [-0.00256489]\n",
      " [-0.07326558]\n",
      " [-0.06415428]\n",
      " [ 0.15648023]\n",
      " [ 0.03726404]\n",
      " [ 0.10851501]\n",
      " [ 0.11528217]\n",
      " [ 0.11276155]\n",
      " [ 0.11844731]\n",
      " [ 0.0937515 ]\n",
      " [ 0.10187644]\n",
      " [ 0.0232757 ]\n",
      " [ 0.04147955]\n",
      " [ 0.06736127]\n",
      " [-0.07702499]\n",
      " [ 0.04051771]\n",
      " [-0.01854502]\n",
      " [-0.03902904]\n",
      " [ 0.05833942]\n",
      " [ 0.02187187]\n",
      " [ 0.03109543]\n",
      " [ 0.11466612]\n",
      " [ 0.12132435]\n",
      " [ 0.63213688]\n",
      " [-0.11932842]\n",
      " [-0.27475572]\n",
      " [-0.2505295 ]\n",
      " [-0.38651657]\n",
      " [ 0.83979594]\n",
      " [ 0.9379876 ]\n",
      " [ 0.80635877]\n",
      " [ 0.74185338]\n",
      " [ 0.50656216]\n",
      " [ 0.45768765]\n",
      " [ 0.37750628]\n",
      " [ 0.36386657]\n",
      " [ 0.40308752]\n",
      " [ 0.38937705]\n",
      " [ 0.29681288]\n",
      " [ 0.3684103 ]\n",
      " [ 0.37855012]\n",
      " [ 0.41855996]\n",
      " [ 0.48901995]\n",
      " [ 0.22732188]\n",
      " [ 0.67764191]\n",
      " [ 0.88591705]\n",
      " [ 0.70272941]\n",
      " [ 0.81727965]\n",
      " [ 0.20928281]\n",
      " [ 0.89652456]\n",
      " [ 0.13271354]\n",
      " [ 0.01573641]\n",
      " [ 0.21035132]\n",
      " [-0.56371962]\n",
      " [ 0.12569047]\n",
      " [ 0.21728933]\n",
      " [ 0.54299882]\n",
      " [ 0.54199232]\n",
      " [ 0.09361876]\n",
      " [-0.00269917]\n",
      " [ 0.06601911]\n",
      " [-0.17531912]\n",
      " [ 0.74945009]\n",
      " [ 0.87345924]\n",
      " [ 0.19527264]\n",
      " [-0.64691278]]\n"
     ]
    },
    {
     "data": {
      "application/vnd.jupyter.widget-view+json": {
       "model_id": "b7ebb317b399454a88cb81328a4ab27b",
       "version_major": 2,
       "version_minor": 0
      },
      "text/plain": [
       "Renderer(camera=PerspectiveCamera(children=(DirectionalLight(color='white', intensity=0.6, position=(0.0, 0.0,…"
      ]
     },
     "metadata": {},
     "output_type": "display_data"
    },
    {
     "data": {
      "application/vnd.jupyter.widget-view+json": {
       "model_id": "368ca2f3b50940f1b55efa42aad80698",
       "version_major": 2,
       "version_minor": 0
      },
      "text/plain": [
       "Renderer(camera=PerspectiveCamera(children=(DirectionalLight(color='white', intensity=0.6, position=(0.0, 0.0,…"
      ]
     },
     "metadata": {},
     "output_type": "display_data"
    },
    {
     "data": {
      "application/vnd.jupyter.widget-view+json": {
       "model_id": "b4c75ed20e894374905d5dc863f9820c",
       "version_major": 2,
       "version_minor": 0
      },
      "text/plain": [
       "Renderer(camera=PerspectiveCamera(children=(DirectionalLight(color='white', intensity=0.6, position=(0.0, 0.0,…"
      ]
     },
     "metadata": {},
     "output_type": "display_data"
    },
    {
     "data": {
      "text/plain": [
       "1"
      ]
     },
     "execution_count": 10,
     "metadata": {},
     "output_type": "execute_result"
    }
   ],
   "source": [
    "s, g = construct_scalar_field(v, f, R)\n",
    "avg = igl.avg_edge_length(v, f)/2\n",
    "B = igl.barycenter(v, f)\n",
    "\n",
    "print(s)\n",
    "\n",
    "# Vector Field\n",
    "p = mp.plot(v, f, c=s)\n",
    "p.add_lines(B, B + R * avg, shading={\"line_color\": \"black\"})\n",
    "\n",
    "# Gradient Field \n",
    "p = mp.plot(v, f, c=s)\n",
    "p.add_lines(B, B + g * avg, shading={\"line_color\": \"white\"})\n",
    "\n",
    "# Possion Error\n",
    "p = mp.plot(v, f, c=s)\n",
    "p.add_lines(B + R * avg, B + g * avg, shading={\"line_color\": \"black\"})\n"
   ]
  },
  {
   "cell_type": "markdown",
   "metadata": {},
   "source": [
    "# Part 3a - Harmonic Parameterization"
   ]
  },
  {
   "cell_type": "code",
   "execution_count": 11,
   "metadata": {},
   "outputs": [],
   "source": [
    "def plot_parameterization(para_type: Callable) -> None:\n",
    "    v, f = igl.read_triangle_mesh(\"data/camel_head.off\")\n",
    "    uv, g_u, g_v = para_type(v, f)\n",
    "\n",
    "    p = mp.subplot(v, f, uv=uv, s=[1, 3, 0])\n",
    "    mp.subplot(v, f, uv=uv[:, 0], s=[1, 3, 1], data=p) \n",
    "    mp.subplot(v, f, uv=uv[:, 1], s=[1, 3, 2], data=p) \n",
    "\n",
    "    avg = igl.avg_edge_length(v, f)/2\n",
    "    B = igl.barycenter(v, f)\n",
    "\n",
    "    # Gradient of the function u\n",
    "    p = mp.plot(v, f, c=uv[:, 0])\n",
    "    p.add_lines(B, B + g_u * avg)\n",
    "\n",
    "    # Gradient of the function v\n",
    "    p = mp.plot(v, f, c=uv[:, 1])\n",
    "    p.add_lines(B, B + g_v * avg)\n",
    "\n",
    "    # Flattened Mesh\n",
    "    mp.plot(uv, f, shading={\"wireframe\": True})\n"
   ]
  },
  {
   "cell_type": "code",
   "execution_count": 12,
   "metadata": {},
   "outputs": [],
   "source": [
    "def harmonic_parameterization(\n",
    "    vertices: list[Any],\n",
    "    faces: list[Any]\n",
    ") -> tuple[list[Any], list[Any], list[Any]]:\n",
    "    # Calculate open boundary\n",
    "    open_boundary = igl.boundary_loop(faces)\n",
    "    \n",
    "    ## Map the boundary to a circle, preserving edge proportions\n",
    "    boundary_uv = igl.map_vertices_to_circle(vertices, open_boundary)\n",
    "    \n",
    "    ## Harmonic parametrization for the internal vertices\n",
    "    uv = igl.harmonic_weights(vertices, faces, open_boundary, boundary_uv, 1)\n",
    "    \n",
    "    # Compute gradients\n",
    "    gradients = igl.grad(vertices, faces).dot(uv)\n",
    "    \n",
    "    g_u = gradients[:, 0].reshape((3, faces.shape[0])).transpose()\n",
    "    g_v = gradients[:, 1].reshape((3, faces.shape[0])).transpose()\n",
    "    \n",
    "    return uv, g_u, g_v\n"
   ]
  },
  {
   "cell_type": "code",
   "execution_count": 13,
   "metadata": {
    "tags": []
   },
   "outputs": [
    {
     "data": {
      "application/vnd.jupyter.widget-view+json": {
       "model_id": "607ca8b53fa648a8b98e9a89d1dcf45c",
       "version_major": 2,
       "version_minor": 0
      },
      "text/plain": [
       "HBox(children=(Output(), Output(), Output()))"
      ]
     },
     "metadata": {},
     "output_type": "display_data"
    },
    {
     "data": {
      "application/vnd.jupyter.widget-view+json": {
       "model_id": "00385101c1ca4dc5b97d510d7a3d3b37",
       "version_major": 2,
       "version_minor": 0
      },
      "text/plain": [
       "Renderer(camera=PerspectiveCamera(children=(DirectionalLight(color='white', intensity=0.6, position=(1.9967555…"
      ]
     },
     "metadata": {},
     "output_type": "display_data"
    },
    {
     "data": {
      "application/vnd.jupyter.widget-view+json": {
       "model_id": "b63e35f53e0746529035dba86b79680f",
       "version_major": 2,
       "version_minor": 0
      },
      "text/plain": [
       "Renderer(camera=PerspectiveCamera(children=(DirectionalLight(color='white', intensity=0.6, position=(1.9967555…"
      ]
     },
     "metadata": {},
     "output_type": "display_data"
    },
    {
     "data": {
      "application/vnd.jupyter.widget-view+json": {
       "model_id": "c98e0377c1c44e75b7327c14a22ca803",
       "version_major": 2,
       "version_minor": 0
      },
      "text/plain": [
       "Renderer(camera=PerspectiveCamera(children=(DirectionalLight(color='white', intensity=0.6, position=(2.3782253…"
      ]
     },
     "metadata": {},
     "output_type": "display_data"
    }
   ],
   "source": [
    "plot_parameterization(harmonic_parameterization)"
   ]
  },
  {
   "cell_type": "markdown",
   "metadata": {},
   "source": [
    "# Part 3b. LSCM Parameterizations"
   ]
  },
  {
   "cell_type": "code",
   "execution_count": 14,
   "metadata": {},
   "outputs": [],
   "source": [
    "def lscm_parameterization(\n",
    "    vertices: list[Any], faces: list[Any]\n",
    ") -> tuple[list[Any], list[Any], list[Any]]:\n",
    "    \n",
    "    # Fix two points on the boundary\n",
    "    b = np.array([2, 1])\n",
    "\n",
    "    open_boundary = igl.boundary_loop(faces)\n",
    "    b[0] = open_boundary[0]\n",
    "    b[1] = open_boundary[int(open_boundary.size / 2)]\n",
    "\n",
    "    bc = np.array([[0.0, 0.0], [1.0, 0.0]])\n",
    "\n",
    "    # LSCM parametrization\n",
    "    _, uv = igl.lscm(vertices, faces, b, bc)\n",
    "    \n",
    "    # Compute Gradients\n",
    "    gradients = igl.grad(vertices, faces).dot(uv)\n",
    "    \n",
    "    g_u = gradients[:, 0].reshape((3, faces.shape[0])).transpose()\n",
    "    g_v = gradients[:, 1].reshape((3, faces.shape[0])).transpose()\n",
    "    \n",
    "    return uv, g_u, g_v"
   ]
  },
  {
   "cell_type": "code",
   "execution_count": 15,
   "metadata": {
    "tags": []
   },
   "outputs": [
    {
     "data": {
      "application/vnd.jupyter.widget-view+json": {
       "model_id": "0da15e21bcd34e96ae81dcf042bd3054",
       "version_major": 2,
       "version_minor": 0
      },
      "text/plain": [
       "HBox(children=(Output(), Output(), Output()))"
      ]
     },
     "metadata": {},
     "output_type": "display_data"
    },
    {
     "data": {
      "application/vnd.jupyter.widget-view+json": {
       "model_id": "0b3976838adc49c9bad14ca78b7b1eec",
       "version_major": 2,
       "version_minor": 0
      },
      "text/plain": [
       "Renderer(camera=PerspectiveCamera(children=(DirectionalLight(color='white', intensity=0.6, position=(1.9967555…"
      ]
     },
     "metadata": {},
     "output_type": "display_data"
    },
    {
     "data": {
      "application/vnd.jupyter.widget-view+json": {
       "model_id": "020d85cfda0b470d9e4a2589bbd10777",
       "version_major": 2,
       "version_minor": 0
      },
      "text/plain": [
       "Renderer(camera=PerspectiveCamera(children=(DirectionalLight(color='white', intensity=0.6, position=(1.9967555…"
      ]
     },
     "metadata": {},
     "output_type": "display_data"
    },
    {
     "data": {
      "application/vnd.jupyter.widget-view+json": {
       "model_id": "2c1dd18b1d31421f9e7c414872c46760",
       "version_major": 2,
       "version_minor": 0
      },
      "text/plain": [
       "Renderer(camera=PerspectiveCamera(children=(DirectionalLight(color='white', intensity=0.6, position=(-0.031860…"
      ]
     },
     "metadata": {},
     "output_type": "display_data"
    }
   ],
   "source": [
    "plot_parameterization(lscm_parameterization)"
   ]
  },
  {
   "cell_type": "markdown",
   "metadata": {},
   "source": [
    "# Part 4a - Editing a parameterization with vector fields"
   ]
  },
  {
   "cell_type": "code",
   "execution_count": 16,
   "metadata": {},
   "outputs": [],
   "source": [
    "def edit_parameterization(\n",
    "    scalar_field: list[Any], uv: list[Any]\n",
    ") -> tuple[list[Any], list[Any]]:\n",
    "    \n",
    "    # Replace U and V with scalar_field\n",
    "    uv_u = np.hstack([scalar_field, uv[:, 1].reshape(scalar_field.size, 1)])\n",
    "    uv_v = np.hstack([uv[:, 0].reshape(scalar_field.size, 1), scalar_field])\n",
    "    \n",
    "    return uv_u, uv_v\n",
    "\n",
    "\n",
    "def plot_edit_para(para_type: Callable) -> None:\n",
    "    v, f = igl.read_triangle_mesh(\"data/irr4-cyl2.off\")\n",
    "    tt, _ = igl.triangle_triangle_adjacency(f)\n",
    "\n",
    "    c = np.loadtxt(\"data/irr4-cyl2.constraints\")\n",
    "    cf = c[:, 0].astype(np.int64)\n",
    "    c = c[:, 1:]\n",
    "    \n",
    "    # Get Intepolated field, scalar field, and gradient\n",
    "    R = construct_vector_field(v, f, tt, cf, c)\n",
    "    scalar_field, gradient = construct_scalar_field(v, f, R)\n",
    "    \n",
    "    # Get Parameterization\n",
    "    uv, _, _ = para_type(v, f)\n",
    "    \n",
    "    # Edit Parameterization \n",
    "    uv_u, uv_v = edit_parameterization(scalar_field, uv)\n",
    "    \n",
    "    # Plot default mesh with gradient vectors\n",
    "    avg = igl.avg_edge_length(v, f)/2\n",
    "    B = igl.barycenter(v, f)\n",
    "    p = mp.plot(v, f, c=s, shading={\"wireframe\":True})\n",
    "    p.add_lines(B, B + gradient * avg)\n",
    "\n",
    "    # Plot edited parameterization\n",
    "    p = mp.subplot(v, f, uv=uv_u, s=[1,2,0])\n",
    "    mp.subplot(v, f, uv=uv_v, s=[1,2,1], data=p)"
   ]
  },
  {
   "cell_type": "code",
   "execution_count": 17,
   "metadata": {
    "tags": []
   },
   "outputs": [
    {
     "data": {
      "application/vnd.jupyter.widget-view+json": {
       "model_id": "d1bdab42f332441dae16cbdd37c6c87f",
       "version_major": 2,
       "version_minor": 0
      },
      "text/plain": [
       "Renderer(camera=PerspectiveCamera(children=(DirectionalLight(color='white', intensity=0.6, position=(0.0, 0.0,…"
      ]
     },
     "metadata": {},
     "output_type": "display_data"
    },
    {
     "data": {
      "application/vnd.jupyter.widget-view+json": {
       "model_id": "b9c263646b5b4dd2ac1d64c6fc5e6880",
       "version_major": 2,
       "version_minor": 0
      },
      "text/plain": [
       "HBox(children=(Output(), Output()))"
      ]
     },
     "metadata": {},
     "output_type": "display_data"
    }
   ],
   "source": [
    "plot_edit_para(harmonic_parameterization)"
   ]
  },
  {
   "cell_type": "code",
   "execution_count": 18,
   "metadata": {
    "tags": []
   },
   "outputs": [
    {
     "data": {
      "application/vnd.jupyter.widget-view+json": {
       "model_id": "e6ca6096d4704295bf534371e02a1f76",
       "version_major": 2,
       "version_minor": 0
      },
      "text/plain": [
       "Renderer(camera=PerspectiveCamera(children=(DirectionalLight(color='white', intensity=0.6, position=(0.0, 0.0,…"
      ]
     },
     "metadata": {},
     "output_type": "display_data"
    },
    {
     "data": {
      "application/vnd.jupyter.widget-view+json": {
       "model_id": "9b856f94b8294d21a3fdbbb40fc7fe86",
       "version_major": 2,
       "version_minor": 0
      },
      "text/plain": [
       "HBox(children=(Output(), Output()))"
      ]
     },
     "metadata": {},
     "output_type": "display_data"
    }
   ],
   "source": [
    "plot_edit_para(lscm_parameterization)"
   ]
  },
  {
   "cell_type": "markdown",
   "metadata": {},
   "source": [
    "# Part 4b - Detecting problems with the parameterization"
   ]
  },
  {
   "cell_type": "code",
   "execution_count": 19,
   "metadata": {},
   "outputs": [],
   "source": [
    "def flip_triangles(\n",
    "    faces: list[Any], uv: list[Any]\n",
    ") -> tuple[list[Any], list[Any]]:\n",
    "    # Variables\n",
    "    indices = list()\n",
    "    colors = np.ones(faces.shape)\n",
    "    \n",
    "    for idx, face in enumerate(faces):\n",
    "        v1, v2, v3 = uv[face[0]], uv[face[1]], uv[face[2]]\n",
    "        \n",
    "        Y = np.array([ [v1[0], v2[0], v3[0]],\n",
    "                       [v1[1], v2[1], v3[1]],\n",
    "                       [1.   , 1.   , 1.   ] ])\n",
    "        \n",
    "        # Update colors and index\n",
    "        if np.linalg.det(Y) < 0:\n",
    "            colors[idx, 1:] = 0\n",
    "            indices.append(idx)\n",
    "    \n",
    "    return np.array(indices), colors"
   ]
  },
  {
   "cell_type": "code",
   "execution_count": 20,
   "metadata": {},
   "outputs": [
    {
     "data": {
      "application/vnd.jupyter.widget-view+json": {
       "model_id": "f0bf617f43514cca9f437c3135c4d96a",
       "version_major": 2,
       "version_minor": 0
      },
      "text/plain": [
       "Renderer(camera=PerspectiveCamera(children=(DirectionalLight(color='white', intensity=0.6, position=(0.0, 0.15…"
      ]
     },
     "metadata": {},
     "output_type": "display_data"
    },
    {
     "name": "stdout",
     "output_type": "stream",
     "text": [
      "[  0   1   2   3   4   5   7   8   9  10  11  12  13  14  15  16  17  18\n",
      "  19  20  21  22  23  26  27  28  30  31  32  33  34  35  36  37  38  39\n",
      "  40  41  42  43  44  45  46  47  48  49  50  51  52  53  54  55  56  57\n",
      "  58  59  60  61  62  63  64  65  66  67  68  69  70  72  73  74  75  76\n",
      "  77  78  79  80  81  82  83  84  85  86  90  95  96  97  98  99 100 101\n",
      " 102 103 106 107 108 109 110 111 112 113 114 115 116 117 118 119 120 121\n",
      " 122 123 124 125 126 127 128 129 130 131 132 133 134 135 136 137 138 139\n",
      " 140 141 142 143 144 145 146 147 148 149 150 151 152 153 154 155 156 157\n",
      " 158 159 160 161 162 163 164 165 166 167 168 169 170 171 172 173 174 175\n",
      " 176 177 178 179 180 181 182 183 184 185 186 187 188 189 190 191 192 193\n",
      " 194 195 196 197 198 199 200 201 202 203 204 205 206 207 208 209 210 211\n",
      " 212 213 214 215 216 217 218 219 220 221 222 223 224 225 226 227 228 229\n",
      " 230 231 232 233 234 235 236 237 238 239 240 241 242 243 244 245 246 247\n",
      " 248 249 250 251 252 253 254 255 256 257 258 259 260 261 262 263 264 265\n",
      " 266 267 268 269 270 271 272 273 274 275 276 277 278 279 280 281 282 283\n",
      " 284 285 286 287 288 289 290 291 292 293 294 295 296 297 298 299 300 301\n",
      " 303 305 306 307 320 321 322 324 326 327 328 329 330 331 332 334 335 337\n",
      " 338 339 340 341 342 343 344 345 346 347 348 349 350 351 352 353 354 355\n",
      " 356 357 358 359 360 361 362 363 364 365 366 367 368 369 370 371 372 373\n",
      " 374 375 376 377 378 379 380 381 382 383 384 385 386 387 388 389 390 391\n",
      " 392 393 394 395 396 397 398 399 400 401 402 403 404 405 406 407 408 409\n",
      " 410 411 412 413 414 415 416 417 418 419 420 421 422 423 424 425 426 427\n",
      " 428 429 430 431 432 433 434 435 436 437 438 439 440 441 442 443 444 445\n",
      " 446 447 448 449 450 451 452 453 454 455 456 457 458 459 460 461 462 463\n",
      " 464 465 466 467 468 469 470 471 472 473 474 475 476 477 478 479 480 481\n",
      " 482 483 484 485 486 487 488 489 490 491 492 493 494 495 496 497 498 499\n",
      " 500 501 502 503 504 505 506 507 508 509 510 511 512 513 514 515 516 517\n",
      " 518 519 520 522 523 530 531 532 533 534 535 536 539 541 542 543 544 545\n",
      " 546 549 550 551 552 553 554 555 556 557 558 559 560 561 562 563 564 569\n",
      " 570 571 572 573 574 575 576 577 578 579 580 581 582 583 584 585 586 587\n",
      " 588 589 590 591 592 593 594 595 596 597 598 599 600 601 602 603 604 605\n",
      " 606 607 608 609 610 611 612 613 614 615 616 617 618 619 620 621 622 623\n",
      " 624 625 626 627 628 629 630 631 632 633 634 635 636 639 665 666 667 668\n",
      " 671 672 673 674 675 676 677 678 679 680 681 682 683 684 685 686 687 688\n",
      " 689 690 691 692 693 694 695 696 697 698 699 700 701 702 703 704 705 706\n",
      " 707 708 709 710 711 712 713 714 715 716 717 718 719 720 721 722 723 724\n",
      " 725 726 727 728 729 730 731 733 734 735 736 737 738 739 746 747 748 749\n",
      " 750 751 752 753 754 755]\n"
     ]
    }
   ],
   "source": [
    "def plot_flipped():\n",
    "    v, f = igl.read_triangle_mesh(\"data/irr4-cyl2.off\")\n",
    "    tt, _ = igl.triangle_triangle_adjacency(f)\n",
    "\n",
    "    c = np.loadtxt(\"data/irr4-cyl2.constraints\")\n",
    "    cf = c[:, 0].astype(np.int64)\n",
    "    c = c[:, 1:]\n",
    "\n",
    "    # Get Intepolated field, scalar field, and gradient\n",
    "    R = construct_vector_field(v, f, tt, cf, c)\n",
    "    scalar_field, gradient = construct_scalar_field(v, f, R)\n",
    "    \n",
    "    # Get Parameterization\n",
    "    uv, _, _ = harmonic_parameterization(v, f)\n",
    "    \n",
    "    # Replace V with scalar_field\n",
    "    uv_v = np.hstack([uv[:, 0].reshape(scalar_field.size, 1), scalar_field])\n",
    "    flipped_idx, colors = flip_triangles(f, uv_v)\n",
    "    \n",
    "    # Not sure if this is the right plot\n",
    "    mp.plot(uv_v, f, c=colors, shading={\"wireframe\": True})\n",
    "    \n",
    "    print(flipped_idx)\n",
    "    \n",
    "plot_flipped()"
   ]
  },
  {
   "cell_type": "code",
   "execution_count": 66,
   "metadata": {},
   "outputs": [],
   "source": []
  },
  {
   "cell_type": "code",
   "execution_count": null,
   "metadata": {},
   "outputs": [],
   "source": []
  }
 ],
 "metadata": {
  "kernelspec": {
   "display_name": "Python 3 (ipykernel)",
   "language": "python",
   "name": "python3"
  },
  "language_info": {
   "codemirror_mode": {
    "name": "ipython",
    "version": 3
   },
   "file_extension": ".py",
   "mimetype": "text/x-python",
   "name": "python",
   "nbconvert_exporter": "python",
   "pygments_lexer": "ipython3",
   "version": "3.9.12"
  }
 },
 "nbformat": 4,
 "nbformat_minor": 4
}
